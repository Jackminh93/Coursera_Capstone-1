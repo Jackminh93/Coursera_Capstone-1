{
 "cells": [
  {
   "cell_type": "markdown",
   "metadata": {},
   "source": [
    "# Yoga for the Yoga-less\n",
    "Parker Servello\n",
    "\n",
    "\n",
    "__Objective:__  \n",
    "My friend frequently ruminates aloud about his dream of operating a yoga studio. This project will be the first step in making that dream become reality. Since we are going to Denver, Colorado next week, we will work under the assumption that he will fall in love with it and want to settle down there. We will determine the best location for this endeavor by clustering neighborhoods together that typically have yoga studios in them, then choosing an area within that cluster that either has too few or no yoga studios.  \n",
    "\n",
    "__Data Collection:__  \n",
    "We will leverage geo-location data for the neighborhoods listed in wikipedia as well as nearby venue data queried from foursquare's API for each neighborhood's coordinates. The clusters will be formed using the venue type frequency for each neighborhood.\n",
    "\n"
   ]
  },
  {
   "cell_type": "code",
   "execution_count": 1,
   "metadata": {},
   "outputs": [],
   "source": [
    "import requests\n",
    "from bs4 import BeautifulSoup\n",
    "import pandas as pd\n",
    "import folium\n",
    "import matplotlib.pyplot as plt\n",
    "from pandas.io.json import json_normalize\n",
    "import numpy as np\n",
    "from sklearn.cluster import KMeans\n",
    "import matplotlib.cm as cm\n",
    "import matplotlib.colors as colors\n",
    "from sklearn import metrics\n",
    "from scipy.spatial.distance import cdist"
   ]
  },
  {
   "cell_type": "markdown",
   "metadata": {},
   "source": [
    "## Extracting neighborhood geo-data from wikipedia"
   ]
  },
  {
   "cell_type": "markdown",
   "metadata": {},
   "source": [
    "Get dataframe of neighborhood with their cardinal area and wiki href"
   ]
  },
  {
   "cell_type": "code",
   "execution_count": 1149,
   "metadata": {},
   "outputs": [
    {
     "data": {
      "text/html": [
       "<div>\n",
       "<style scoped>\n",
       "    .dataframe tbody tr th:only-of-type {\n",
       "        vertical-align: middle;\n",
       "    }\n",
       "\n",
       "    .dataframe tbody tr th {\n",
       "        vertical-align: top;\n",
       "    }\n",
       "\n",
       "    .dataframe thead th {\n",
       "        text-align: right;\n",
       "    }\n",
       "</style>\n",
       "<table border=\"1\" class=\"dataframe\">\n",
       "  <thead>\n",
       "    <tr style=\"text-align: right;\">\n",
       "      <th></th>\n",
       "      <th>Area</th>\n",
       "      <th>Neighborhood</th>\n",
       "      <th>href</th>\n",
       "    </tr>\n",
       "  </thead>\n",
       "  <tbody>\n",
       "    <tr>\n",
       "      <th>0</th>\n",
       "      <td>Central</td>\n",
       "      <td>Baker</td>\n",
       "      <td>/wiki/Baker,_Denver</td>\n",
       "    </tr>\n",
       "    <tr>\n",
       "      <th>1</th>\n",
       "      <td>Central</td>\n",
       "      <td>Capitol Hill</td>\n",
       "      <td>/wiki/Capitol_Hill,_Denver</td>\n",
       "    </tr>\n",
       "    <tr>\n",
       "      <th>2</th>\n",
       "      <td>Central</td>\n",
       "      <td>Central Business District</td>\n",
       "      <td>/wiki/Downtown_Denver</td>\n",
       "    </tr>\n",
       "    <tr>\n",
       "      <th>3</th>\n",
       "      <td>Central</td>\n",
       "      <td>Cherry Creek</td>\n",
       "      <td>/wiki/Cherry_Creek,_Denver</td>\n",
       "    </tr>\n",
       "    <tr>\n",
       "      <th>4</th>\n",
       "      <td>Central</td>\n",
       "      <td>Cheesman Park</td>\n",
       "      <td>/wiki/Cheesman_Park,_Denver</td>\n",
       "    </tr>\n",
       "  </tbody>\n",
       "</table>\n",
       "</div>"
      ],
      "text/plain": [
       "      Area               Neighborhood                         href\n",
       "0  Central                      Baker          /wiki/Baker,_Denver\n",
       "1  Central               Capitol Hill   /wiki/Capitol_Hill,_Denver\n",
       "2  Central  Central Business District        /wiki/Downtown_Denver\n",
       "3  Central               Cherry Creek   /wiki/Cherry_Creek,_Denver\n",
       "4  Central              Cheesman Park  /wiki/Cheesman_Park,_Denver"
      ]
     },
     "execution_count": 1149,
     "metadata": {},
     "output_type": "execute_result"
    }
   ],
   "source": [
    "page = requests.get(r'https://en.wikipedia.org/wiki/List_of_neighborhoods_in_Denver')\n",
    "soup = BeautifulSoup(page.text, 'lxml')\n",
    "\n",
    "denver_division = [div.text for div in soup.find_all('span', class_='mw-headline')][:-3]\n",
    "\n",
    "df = []\n",
    "for div, lst in zip(denver_division,soup.find_all('ul')[1:11]):\n",
    "    df.extend([(div, nbhd.text, nbhd['href']) for nbhd in lst.find_all('a')])\n",
    "    \n",
    "df = pd.DataFrame(df, columns=['Area','Neighborhood','href'])\n",
    "\n",
    "df.head()"
   ]
  },
  {
   "cell_type": "markdown",
   "metadata": {},
   "source": [
    "Now we need to go to each of the hrefs on wikipedia to extract coordinates from the individual neighborhood pages."
   ]
  },
  {
   "cell_type": "code",
   "execution_count": 1150,
   "metadata": {},
   "outputs": [],
   "source": [
    "lat,lon = [],[]\n",
    "for href in df['href']:\n",
    "    \n",
    "    url = 'https://en.wikipedia.org' + href\n",
    "    \n",
    "    page = requests.get(url)\n",
    "    soup = BeautifulSoup(page.text, 'lxml')\n",
    "    \n",
    "    try:\n",
    "        coord = soup.find_all('span', class_='geo')[0].text\n",
    "        lat.append(coord.split(\";\")[0])\n",
    "        lon.append(coord.split(\" \")[1])\n",
    "    \n",
    "    except:\n",
    "        lat.append(\"0\")\n",
    "        lon.append(\"0\")"
   ]
  },
  {
   "cell_type": "markdown",
   "metadata": {},
   "source": [
    "Add latitude and longitude to dataframe and remove the href column."
   ]
  },
  {
   "cell_type": "code",
   "execution_count": 1151,
   "metadata": {},
   "outputs": [],
   "source": [
    "df['Latitude'] = list(map(float,lat))\n",
    "df['Longitude'] = list(map(float,lon))\n",
    "df.drop('href', axis=1, inplace=True)"
   ]
  },
  {
   "cell_type": "markdown",
   "metadata": {},
   "source": [
    "Some neighborhoods didn't have a wikipage, so we set their coordinates to 0 to easily filter them out. Let's remove them now."
   ]
  },
  {
   "cell_type": "code",
   "execution_count": 1152,
   "metadata": {},
   "outputs": [],
   "source": [
    "df = df[df['Latitude'] != 0].reset_index(drop=True)"
   ]
  },
  {
   "cell_type": "markdown",
   "metadata": {},
   "source": [
    "## Exploring the neighborhoods"
   ]
  },
  {
   "cell_type": "markdown",
   "metadata": {},
   "source": [
    "Initially there were 78 neighborhoods. 28 were removed because there is no associated wikipedia page. Also, let's get rid of the airport and Montbello because they are practically outside of Denver.\n"
   ]
  },
  {
   "cell_type": "code",
   "execution_count": 1153,
   "metadata": {},
   "outputs": [
    {
     "data": {
      "text/html": [
       "<div>\n",
       "<style scoped>\n",
       "    .dataframe tbody tr th:only-of-type {\n",
       "        vertical-align: middle;\n",
       "    }\n",
       "\n",
       "    .dataframe tbody tr th {\n",
       "        vertical-align: top;\n",
       "    }\n",
       "\n",
       "    .dataframe thead th {\n",
       "        text-align: right;\n",
       "    }\n",
       "</style>\n",
       "<table border=\"1\" class=\"dataframe\">\n",
       "  <thead>\n",
       "    <tr style=\"text-align: right;\">\n",
       "      <th></th>\n",
       "      <th>Area</th>\n",
       "      <th>Neighborhood</th>\n",
       "      <th>Latitude</th>\n",
       "      <th>Longitude</th>\n",
       "    </tr>\n",
       "  </thead>\n",
       "  <tbody>\n",
       "    <tr>\n",
       "      <th>0</th>\n",
       "      <td>Central</td>\n",
       "      <td>Baker</td>\n",
       "      <td>39.723919</td>\n",
       "      <td>-104.995150</td>\n",
       "    </tr>\n",
       "    <tr>\n",
       "      <th>1</th>\n",
       "      <td>Central</td>\n",
       "      <td>Capitol Hill</td>\n",
       "      <td>39.733000</td>\n",
       "      <td>-104.983000</td>\n",
       "    </tr>\n",
       "    <tr>\n",
       "      <th>2</th>\n",
       "      <td>Central</td>\n",
       "      <td>Central Business District</td>\n",
       "      <td>39.745870</td>\n",
       "      <td>-104.992819</td>\n",
       "    </tr>\n",
       "    <tr>\n",
       "      <th>3</th>\n",
       "      <td>Central</td>\n",
       "      <td>Cherry Creek</td>\n",
       "      <td>39.720967</td>\n",
       "      <td>-104.949804</td>\n",
       "    </tr>\n",
       "    <tr>\n",
       "      <th>4</th>\n",
       "      <td>Central</td>\n",
       "      <td>Cheesman Park</td>\n",
       "      <td>39.732780</td>\n",
       "      <td>-104.965830</td>\n",
       "    </tr>\n",
       "  </tbody>\n",
       "</table>\n",
       "</div>"
      ],
      "text/plain": [
       "      Area               Neighborhood   Latitude   Longitude\n",
       "0  Central                      Baker  39.723919 -104.995150\n",
       "1  Central               Capitol Hill  39.733000 -104.983000\n",
       "2  Central  Central Business District  39.745870 -104.992819\n",
       "3  Central               Cherry Creek  39.720967 -104.949804\n",
       "4  Central              Cheesman Park  39.732780 -104.965830"
      ]
     },
     "execution_count": 1153,
     "metadata": {},
     "output_type": "execute_result"
    }
   ],
   "source": [
    "#df = df[[nbhd not in ['Jefferson Park','Lincoln Park','Villa Park','City Park','Washington Park','Denver International Airport','Montbello'] for nbhd in df['Neighborhood']]]\n",
    "df = df[[nbhd not in ['Denver International Airport','Montbello'] for nbhd in df['Neighborhood']]]\n",
    "\n",
    "df.head()"
   ]
  },
  {
   "cell_type": "code",
   "execution_count": 1154,
   "metadata": {
    "scrolled": false
   },
   "outputs": [
    {
     "data": {
      "text/html": [
       "<div style=\"width:100%;\"><div style=\"position:relative;width:100%;height:0;padding-bottom:60%;\"><iframe src=\"data:text/html;charset=utf-8;base64,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\" style=\"position:absolute;width:100%;height:100%;left:0;top:0;border:none !important;\" allowfullscreen webkitallowfullscreen mozallowfullscreen></iframe></div></div>"
      ],
      "text/plain": [
       "<folium.folium.Map at 0x252797deeb8>"
      ]
     },
     "execution_count": 1154,
     "metadata": {},
     "output_type": "execute_result"
    }
   ],
   "source": [
    "# create map of Denver using latitude and longitude values\n",
    "map_denver = folium.Map(location=[39.719, -104.95], zoom_start=12)\n",
    "\n",
    "# add markers to map\n",
    "for lat, lng, borough, neighborhood in zip(df['Latitude'], df['Longitude'], df['Area'], df['Neighborhood']):\n",
    "    label = '{}, {}'.format(neighborhood, borough)\n",
    "    label = folium.Popup(label, parse_html=True)\n",
    "    folium.CircleMarker(\n",
    "        [lat, lng],\n",
    "        radius=5,\n",
    "        popup=label,\n",
    "        color='blue',\n",
    "        fill=True,\n",
    "        fill_color='#3186cc',\n",
    "        fill_opacity=0.7,\n",
    "        parse_html=False).add_to(map_denver)  \n",
    "    \n",
    "map_denver"
   ]
  },
  {
   "cell_type": "markdown",
   "metadata": {},
   "source": [
    "## Requesting data from Foursquare"
   ]
  },
  {
   "cell_type": "markdown",
   "metadata": {},
   "source": [
    "First, we need to enter credentials from a Foursquare account."
   ]
  },
  {
   "cell_type": "code",
   "execution_count": 1155,
   "metadata": {},
   "outputs": [],
   "source": [
    "CLIENT_ID = 'HSZABG5YEFOXOESF5NY2WCPNAKYIVUEB5IMWDLOMJD4GQWPK'\n",
    "CLIENT_SECRET = '1Z110T2LFIS4R2XCYHYQEUBNPBOZQIWIKOO4KBBXV1KNBYB1'\n",
    "VERSION = '20180605'"
   ]
  },
  {
   "cell_type": "markdown",
   "metadata": {},
   "source": [
    "Now we can request the data."
   ]
  },
  {
   "cell_type": "markdown",
   "metadata": {},
   "source": [
    "Creating a function that extracts the nearby venues"
   ]
  },
  {
   "cell_type": "code",
   "execution_count": 1300,
   "metadata": {},
   "outputs": [],
   "source": [
    "def get_nearby_venues(names, latitudes, longitudes, radius=1000, LIMIT=100):\n",
    "    \n",
    "    venues_list=[]\n",
    "    for name, lat, lng in zip(names, latitudes, longitudes):\n",
    "            \n",
    "        # create the API request URL\n",
    "        url = 'https://api.foursquare.com/v2/venues/explore?&client_id={}&client_secret={}&v={}&ll={},{}&radius={}&limit={}'.format(\n",
    "            CLIENT_ID,  CLIENT_SECRET, VERSION, lat, lng, radius, LIMIT)\n",
    "            \n",
    "        # make the GET request\n",
    "        results = requests.get(url).json()[\"response\"]['groups'][0]['items']\n",
    "    \n",
    "        # return only relevant information for each nearby venue\n",
    "        venues_list.append([(\n",
    "            name, \n",
    "            lat, \n",
    "            lng, \n",
    "            v['venue']['name'], \n",
    "            v['venue']['location']['lat'], \n",
    "            v['venue']['location']['lng'],  \n",
    "            v['venue']['categories'][0]['name']) for v in results])\n",
    "\n",
    "    nearby_venues = pd.DataFrame([item for venue_list in venues_list for item in venue_list])\n",
    "    nearby_venues.columns = ['Neighborhood', \n",
    "                  'Neighborhood Latitude', \n",
    "                  'Neighborhood Longitude', \n",
    "                  'Venue', \n",
    "                  'Venue Latitude', \n",
    "                  'Venue Longitude', \n",
    "                  'Venue Category']\n",
    "    \n",
    "    return(nearby_venues)"
   ]
  },
  {
   "cell_type": "code",
   "execution_count": 1817,
   "metadata": {},
   "outputs": [],
   "source": [
    "denver_venues = get_nearby_venues(names=df['Neighborhood'],\n",
    "                                   latitudes=df['Latitude'],\n",
    "                                   longitudes=df['Longitude'])"
   ]
  },
  {
   "cell_type": "markdown",
   "metadata": {},
   "source": [
    "There are going to be duplicate venues, so we should only attribute each venue to its' closest neighborhood. Let's compute the distance from each venue to each associated neighborhood."
   ]
  },
  {
   "cell_type": "code",
   "execution_count": 1988,
   "metadata": {
    "scrolled": true
   },
   "outputs": [
    {
     "data": {
      "text/html": [
       "<div>\n",
       "<style scoped>\n",
       "    .dataframe tbody tr th:only-of-type {\n",
       "        vertical-align: middle;\n",
       "    }\n",
       "\n",
       "    .dataframe tbody tr th {\n",
       "        vertical-align: top;\n",
       "    }\n",
       "\n",
       "    .dataframe thead th {\n",
       "        text-align: right;\n",
       "    }\n",
       "</style>\n",
       "<table border=\"1\" class=\"dataframe\">\n",
       "  <thead>\n",
       "    <tr style=\"text-align: right;\">\n",
       "      <th></th>\n",
       "      <th>Venue</th>\n",
       "      <th>Venue Distance</th>\n",
       "    </tr>\n",
       "  </thead>\n",
       "  <tbody>\n",
       "    <tr>\n",
       "      <th>0</th>\n",
       "      <td>Zandi K Hair &amp; Skin Studio</td>\n",
       "      <td>0.002811</td>\n",
       "    </tr>\n",
       "    <tr>\n",
       "      <th>1</th>\n",
       "      <td>space Gallery</td>\n",
       "      <td>0.003329</td>\n",
       "    </tr>\n",
       "    <tr>\n",
       "      <th>2</th>\n",
       "      <td>Trade</td>\n",
       "      <td>0.003611</td>\n",
       "    </tr>\n",
       "    <tr>\n",
       "      <th>3</th>\n",
       "      <td>Black Sky Brewery</td>\n",
       "      <td>0.003216</td>\n",
       "    </tr>\n",
       "    <tr>\n",
       "      <th>4</th>\n",
       "      <td>El Taco De Mexico</td>\n",
       "      <td>0.004946</td>\n",
       "    </tr>\n",
       "  </tbody>\n",
       "</table>\n",
       "</div>"
      ],
      "text/plain": [
       "                        Venue  Venue Distance\n",
       "0  Zandi K Hair & Skin Studio        0.002811\n",
       "1               space Gallery        0.003329\n",
       "2                       Trade        0.003611\n",
       "3           Black Sky Brewery        0.003216\n",
       "4           El Taco De Mexico        0.004946"
      ]
     },
     "execution_count": 1988,
     "metadata": {},
     "output_type": "execute_result"
    }
   ],
   "source": [
    "denver_venues['Venue Distance'] = np.sqrt((denver_venues['Neighborhood Latitude']-denver_venues['Venue Latitude'])**2+(denver_venues['Neighborhood Longitude']-denver_venues['Venue Longitude'])**2)\n",
    "denver_venues[['Venue','Venue Distance']].head()"
   ]
  },
  {
   "cell_type": "markdown",
   "metadata": {},
   "source": [
    "Now we can get rid of the duplicates."
   ]
  },
  {
   "cell_type": "code",
   "execution_count": 1989,
   "metadata": {
    "scrolled": true
   },
   "outputs": [
    {
     "name": "stdout",
     "output_type": "stream",
     "text": [
      "Removed 794 duplicate venues.\n"
     ]
    }
   ],
   "source": [
    "denver_venues_reduced = denver_venues.sort_values('Venue Distance').drop_duplicates(['Venue','Venue Latitude','Venue Longitude'])\n",
    "print(\"Removed {} duplicate venues.\".format(len(denver_venues)-len(denver_venues_reduced)))"
   ]
  },
  {
   "cell_type": "markdown",
   "metadata": {},
   "source": [
    "Let's see what categories they're from."
   ]
  },
  {
   "cell_type": "code",
   "execution_count": 1990,
   "metadata": {
    "scrolled": true
   },
   "outputs": [
    {
     "name": "stdout",
     "output_type": "stream",
     "text": [
      "There are 282 uniques categories and 1893 unique venues.\n"
     ]
    },
    {
     "data": {
      "text/plain": [
       "Coffee Shop                    99\n",
       "Mexican Restaurant             89\n",
       "Pizza Place                    71\n",
       "Park                           63\n",
       "Bar                            62\n",
       "American Restaurant            59\n",
       "Brewery                        50\n",
       "Sandwich Place                 46\n",
       "Marijuana Dispensary           45\n",
       "Convenience Store              44\n",
       "Italian Restaurant             40\n",
       "Hotel                          37\n",
       "Liquor Store                   36\n",
       "Fast Food Restaurant           33\n",
       "Breakfast Spot                 32\n",
       "Gym                            31\n",
       "Grocery Store                  29\n",
       "Restaurant                     28\n",
       "Asian Restaurant               24\n",
       "Café                           23\n",
       "Sushi Restaurant               23\n",
       "Spa                            22\n",
       "Ice Cream Shop                 21\n",
       "Cocktail Bar                   21\n",
       "Gym / Fitness Center           21\n",
       "Burger Joint                   19\n",
       "Bakery                         19\n",
       "Clothing Store                 18\n",
       "Japanese Restaurant            17\n",
       "Zoo Exhibit                    17\n",
       "                               ..\n",
       "Astrologer                      1\n",
       "Eastern European Restaurant     1\n",
       "Moroccan Restaurant             1\n",
       "IT Services                     1\n",
       "German Restaurant               1\n",
       "Fish & Chips Shop               1\n",
       "Video Game Store                1\n",
       "Hotel Bar                       1\n",
       "Health Food Store               1\n",
       "Sculpture Garden                1\n",
       "Pet Café                        1\n",
       "Aquarium                        1\n",
       "Outdoor Supply Store            1\n",
       "Climbing Gym                    1\n",
       "Tailor Shop                     1\n",
       "Distillery                      1\n",
       "Zoo                             1\n",
       "Trade School                    1\n",
       "Fabric Shop                     1\n",
       "Beer Store                      1\n",
       "Strip Club                      1\n",
       "Warehouse Store                 1\n",
       "Multiplex                       1\n",
       "Skate Park                      1\n",
       "Indie Theater                   1\n",
       "Roof Deck                       1\n",
       "Creperie                        1\n",
       "Piano Bar                       1\n",
       "Historic Site                   1\n",
       "Souvenir Shop                   1\n",
       "Name: Venue Category, Length: 282, dtype: int64"
      ]
     },
     "execution_count": 1990,
     "metadata": {},
     "output_type": "execute_result"
    }
   ],
   "source": [
    "print('There are {} uniques categories and {} unique venues.'.format(len(denver_venues_reduced['Venue Category'].unique()),len(denver_venues_reduced['Venue'].unique())))\n",
    "denver_venues_reduced['Venue Category'].value_counts()"
   ]
  },
  {
   "cell_type": "markdown",
   "metadata": {},
   "source": [
    "There are plenty of one off venue categories, we'll only include the ones that have at one instance.  "
   ]
  },
  {
   "cell_type": "code",
   "execution_count": 1991,
   "metadata": {
    "scrolled": true
   },
   "outputs": [
    {
     "name": "stdout",
     "output_type": "stream",
     "text": [
      "Now we are down to 46 unique venue categories and 1145 unique venues.\n"
     ]
    },
    {
     "data": {
      "text/plain": [
       "Highland                     64\n",
       "Berkeley                     63\n",
       "Central Business District    60\n",
       "Five Points                  59\n",
       "City Park West               58\n",
       "City Park                    53\n",
       "Speer                        52\n",
       "Cherry Creek                 51\n",
       "LoDo                         51\n",
       "University                   50\n",
       "Montclair                    39\n",
       "Jefferson Park               39\n",
       "Washington Virginia Vale     38\n",
       "North Capitol Hill           35\n",
       "Lincoln Park                 34\n",
       "Hale                         32\n",
       "Belcaro                      30\n",
       "Sloan Lake                   29\n",
       "Baker                        29\n",
       "Washington Park              28\n",
       "Chaffee Park                 27\n",
       "Cole                         25\n",
       "Union Station                25\n",
       "Globeville                   25\n",
       "Valverde                     24\n",
       "Sunnyside                    24\n",
       "Golden Triangle              23\n",
       "Capitol Hill                 22\n",
       "Cheesman Park                22\n",
       "Barnum                       21\n",
       "Lowry                        21\n",
       "Alamo Placita                21\n",
       "Auraria                      19\n",
       "Hampden South                18\n",
       "West Colfax                  17\n",
       "Congress Park                15\n",
       "Virginia Village             15\n",
       "Regis                        13\n",
       "Sun Valley                   13\n",
       "Clayton                      11\n",
       "Civic Center                 11\n",
       "Whittier                     10\n",
       "Park Hill                     9\n",
       "Ruby Hill                     7\n",
       "Elyria-Swansea                7\n",
       "Country Club                  7\n",
       "Villa Park                    5\n",
       "Athmar Park                   4\n",
       "Name: Neighborhood, dtype: int64"
      ]
     },
     "execution_count": 1991,
     "metadata": {},
     "output_type": "execute_result"
    }
   ],
   "source": [
    "category_counts = denver_venues_reduced['Venue Category'].value_counts()[list(map(lambda x: x>11, denver_venues_reduced['Venue Category'].value_counts()))]\n",
    "categories = list(category_counts.index)\n",
    "denver_venues_reduced = denver_venues_reduced[list(map(lambda x: x in categories,denver_venues_reduced['Venue Category']))]\n",
    "print(\"Now we are down to {} unique venue categories and {} unique venues.\".format(len(categories),len(denver_venues_reduced['Venue'].unique())))\n",
    "denver_venues_reduced['Neighborhood'].value_counts()"
   ]
  },
  {
   "cell_type": "markdown",
   "metadata": {},
   "source": [
    "We should only look at neighborhoods with at least 15 venues so that we have enough information to create meaningful clusters."
   ]
  },
  {
   "cell_type": "code",
   "execution_count": 1992,
   "metadata": {},
   "outputs": [],
   "source": [
    "nonsmall_neighborhoods = list(denver_venues_reduced['Neighborhood'].value_counts()[list(map(lambda x: x>15, denver_venues_reduced['Neighborhood'].value_counts()))].index)\n",
    "denver_venues_reduced = denver_venues_reduced[[x in nonsmall_neighborhoods for x in denver_venues_reduced['Neighborhood']]]"
   ]
  },
  {
   "cell_type": "code",
   "execution_count": 2053,
   "metadata": {},
   "outputs": [
    {
     "data": {
      "text/plain": [
       "<matplotlib.axes._subplots.AxesSubplot at 0x2527bcae470>"
      ]
     },
     "execution_count": 2053,
     "metadata": {},
     "output_type": "execute_result"
    },
    {
     "data": {
      "image/png": "[encoded data removed]",
      "text/plain": [
       "<Figure size 432x288 with 1 Axes>"
      ]
     },
     "metadata": {},
     "output_type": "display_data"
    }
   ],
   "source": [
    "denver_venues_reduced['Neighborhood'].value_counts().plot.hist(title=\"Neighborhood Frequencies\", y='Neighborhoods')"
   ]
  },
  {
   "cell_type": "markdown",
   "metadata": {},
   "source": [
    "We need to turn everything into categorical variables, so we'll do some one hot encoding."
   ]
  },
  {
   "cell_type": "code",
   "execution_count": 1993,
   "metadata": {},
   "outputs": [],
   "source": [
    "# one hot encoding\n",
    "denver_onehot = pd.get_dummies(denver_venues_reduced[['Venue Category']], prefix=\"\", prefix_sep=\"\")\n",
    "\n",
    "# add neighborhood column back to dataframe\n",
    "denver_onehot['Neighborhood'] = denver_venues_reduced['Neighborhood'] \n",
    "\n",
    "# move neighborhood column to the first column\n",
    "fixed_columns = [denver_onehot.columns[-1]] + list(denver_onehot.columns[:-1])\n",
    "denver_onehot = denver_onehot[fixed_columns]"
   ]
  },
  {
   "cell_type": "markdown",
   "metadata": {},
   "source": [
    "Standardizing and preparing the data for clustering"
   ]
  },
  {
   "cell_type": "code",
   "execution_count": 1994,
   "metadata": {},
   "outputs": [],
   "source": [
    "denver_grouped_portioned = denver_onehot.groupby('Neighborhood').mean().reset_index()\n",
    "denver_grouped_clustering = denver_grouped_portioned.drop('Neighborhood', 1)"
   ]
  },
  {
   "cell_type": "code",
   "execution_count": 1995,
   "metadata": {},
   "outputs": [
    {
     "data": {
      "image/png": "[encoded data removed]",
      "text/plain": [
       "<Figure size 432x288 with 1 Axes>"
      ]
     },
     "metadata": {},
     "output_type": "display_data"
    }
   ],
   "source": [
    "# determine k using elbow method\n",
    "distortions = []\n",
    "K = range(3,11)\n",
    "for k in K:\n",
    "    kmeanModel = KMeans(n_clusters=k, random_state=42).fit(denver_grouped_clustering)\n",
    "    kmeanModel.fit(denver_grouped_clustering)\n",
    "    distortions.append(sum(np.min(cdist(denver_grouped_clustering, kmeanModel.cluster_centers_, 'euclidean'), axis=1)) / denver_grouped_clustering.shape[0])\n",
    "\n",
    "# Plot the elbow\n",
    "plt.plot(K, distortions, 'bx-')\n",
    "plt.xlabel('k')\n",
    "plt.ylabel('Distortion')\n",
    "plt.title('The Elbow Method showing the optimal k')\n",
    "plt.show()\n"
   ]
  },
  {
   "cell_type": "markdown",
   "metadata": {},
   "source": [
    "From the elbow method, we see that we should use 3 clusters."
   ]
  },
  {
   "cell_type": "code",
   "execution_count": 1996,
   "metadata": {},
   "outputs": [],
   "source": [
    "# set number of clusters\n",
    "kclusters = 8\n",
    "\n",
    "# run k-means clustering\n",
    "kmeans = KMeans(n_clusters=kclusters, random_state=42).fit(denver_grouped_clustering)"
   ]
  },
  {
   "cell_type": "markdown",
   "metadata": {},
   "source": [
    "Let's make a dataframe to view the number of each venue category instance per neighborhood along with the clusters"
   ]
  },
  {
   "cell_type": "code",
   "execution_count": 1997,
   "metadata": {},
   "outputs": [],
   "source": [
    "# get the count of each venue category instance by neighborhood\n",
    "denver_grouped_portioned['Cluster'] = kmeans.labels_"
   ]
  },
  {
   "cell_type": "markdown",
   "metadata": {},
   "source": [
    "Let's check how many neighborhoods are in each cluster and the number of yoga studios in each to be sure that they are account for."
   ]
  },
  {
   "cell_type": "code",
   "execution_count": 1998,
   "metadata": {
    "scrolled": false
   },
   "outputs": [
    {
     "data": {
      "text/html": [
       "<div>\n",
       "<style scoped>\n",
       "    .dataframe tbody tr th:only-of-type {\n",
       "        vertical-align: middle;\n",
       "    }\n",
       "\n",
       "    .dataframe tbody tr th {\n",
       "        vertical-align: top;\n",
       "    }\n",
       "\n",
       "    .dataframe thead th {\n",
       "        text-align: right;\n",
       "    }\n",
       "</style>\n",
       "<table border=\"1\" class=\"dataframe\">\n",
       "  <thead>\n",
       "    <tr style=\"text-align: right;\">\n",
       "      <th></th>\n",
       "      <th>Yoga Studio</th>\n",
       "      <th>Neighborhoods</th>\n",
       "      <th>Average per Neighborhood</th>\n",
       "    </tr>\n",
       "    <tr>\n",
       "      <th>Cluster</th>\n",
       "      <th></th>\n",
       "      <th></th>\n",
       "      <th></th>\n",
       "    </tr>\n",
       "  </thead>\n",
       "  <tbody>\n",
       "    <tr>\n",
       "      <th>0</th>\n",
       "      <td>0</td>\n",
       "      <td>2</td>\n",
       "      <td>0.000000</td>\n",
       "    </tr>\n",
       "    <tr>\n",
       "      <th>1</th>\n",
       "      <td>10</td>\n",
       "      <td>11</td>\n",
       "      <td>0.909091</td>\n",
       "    </tr>\n",
       "    <tr>\n",
       "      <th>2</th>\n",
       "      <td>0</td>\n",
       "      <td>1</td>\n",
       "      <td>0.000000</td>\n",
       "    </tr>\n",
       "    <tr>\n",
       "      <th>3</th>\n",
       "      <td>1</td>\n",
       "      <td>9</td>\n",
       "      <td>0.111111</td>\n",
       "    </tr>\n",
       "    <tr>\n",
       "      <th>4</th>\n",
       "      <td>1</td>\n",
       "      <td>3</td>\n",
       "      <td>0.333333</td>\n",
       "    </tr>\n",
       "    <tr>\n",
       "      <th>5</th>\n",
       "      <td>1</td>\n",
       "      <td>1</td>\n",
       "      <td>1.000000</td>\n",
       "    </tr>\n",
       "    <tr>\n",
       "      <th>6</th>\n",
       "      <td>0</td>\n",
       "      <td>1</td>\n",
       "      <td>0.000000</td>\n",
       "    </tr>\n",
       "    <tr>\n",
       "      <th>7</th>\n",
       "      <td>2</td>\n",
       "      <td>7</td>\n",
       "      <td>0.285714</td>\n",
       "    </tr>\n",
       "  </tbody>\n",
       "</table>\n",
       "</div>"
      ],
      "text/plain": [
       "         Yoga Studio  Neighborhoods  Average per Neighborhood\n",
       "Cluster                                                      \n",
       "0                  0              2                  0.000000\n",
       "1                 10             11                  0.909091\n",
       "2                  0              1                  0.000000\n",
       "3                  1              9                  0.111111\n",
       "4                  1              3                  0.333333\n",
       "5                  1              1                  1.000000\n",
       "6                  0              1                  0.000000\n",
       "7                  2              7                  0.285714"
      ]
     },
     "execution_count": 1998,
     "metadata": {},
     "output_type": "execute_result"
    }
   ],
   "source": [
    "denver_grouped_sums = denver_onehot.groupby('Neighborhood').sum().reset_index()\n",
    "denver_grouped_sums['Cluster'] = kmeans.labels_\n",
    "yoga_df = denver_grouped_sums[['Cluster','Yoga Studio']].groupby('Cluster').sum()\n",
    "yoga_df['Neighborhoods'] = denver_grouped_sums['Cluster'].value_counts().sort_index()\n",
    "yoga_df['Average per Neighborhood'] = yoga_df['Yoga Studio']/yoga_df['Neighborhoods']\n",
    "yoga_df"
   ]
  },
  {
   "cell_type": "markdown",
   "metadata": {},
   "source": [
    "Some of the neighborhoods are drastically different from the rest. Let's see if we can get rid of them and recluster."
   ]
  },
  {
   "cell_type": "code",
   "execution_count": 1999,
   "metadata": {},
   "outputs": [
    {
     "name": "stdout",
     "output_type": "stream",
     "text": [
      "Outlying neighborhoods include Barnum, Belcaro, Central Business District, City Park, Sunnyside\n"
     ]
    }
   ],
   "source": [
    "bad_clusters = list(yoga_df[(yoga_df['Neighborhoods']==1) | (yoga_df['Neighborhoods']==2)].index)\n",
    "bad_neighborhoods = list(denver_grouped_portioned[[(x in bad_clusters) for x in denver_grouped_portioned['Cluster']]]['Neighborhood'])\n",
    "\n",
    "print(\"Outlying neighborhoods include {}\".format(\", \".join(bad_neighborhoods)))"
   ]
  },
  {
   "cell_type": "code",
   "execution_count": 2000,
   "metadata": {},
   "outputs": [],
   "source": [
    "denver_grouped_portioned = denver_grouped_portioned[[x not in bad_neighborhoods for x in denver_grouped_portioned['Neighborhood']]]\n",
    "denver_grouped_clustering = denver_grouped_portioned.drop('Neighborhood', 1)\n",
    "\n",
    "denver_grouped_sums = denver_grouped_sums[[x not in bad_neighborhoods for x in denver_grouped_sums['Neighborhood']]]"
   ]
  },
  {
   "cell_type": "code",
   "execution_count": 2001,
   "metadata": {},
   "outputs": [
    {
     "data": {
      "image/png": "[encoded data removed]",
      "text/plain": [
       "<Figure size 432x288 with 1 Axes>"
      ]
     },
     "metadata": {},
     "output_type": "display_data"
    }
   ],
   "source": [
    "# determine k using elbow method\n",
    "\n",
    "# k means determine k\n",
    "distortions = []\n",
    "K = range(3,11)\n",
    "for k in K:\n",
    "    kmeanModel = KMeans(n_clusters=k, random_state=42).fit(denver_grouped_clustering)\n",
    "    kmeanModel.fit(denver_grouped_clustering)\n",
    "    distortions.append(sum(np.min(cdist(denver_grouped_clustering, kmeanModel.cluster_centers_, 'euclidean'), axis=1)) / denver_grouped_clustering.shape[0])\n",
    "\n",
    "# Plot the elbow\n",
    "plt.plot(K, distortions, 'bx-')\n",
    "plt.xlabel('k')\n",
    "plt.ylabel('Distortion')\n",
    "plt.title('The Elbow Method showing the optimal k')\n",
    "plt.show()"
   ]
  },
  {
   "cell_type": "code",
   "execution_count": 2002,
   "metadata": {},
   "outputs": [
    {
     "data": {
      "text/html": [
       "<div>\n",
       "<style scoped>\n",
       "    .dataframe tbody tr th:only-of-type {\n",
       "        vertical-align: middle;\n",
       "    }\n",
       "\n",
       "    .dataframe tbody tr th {\n",
       "        vertical-align: top;\n",
       "    }\n",
       "\n",
       "    .dataframe thead th {\n",
       "        text-align: right;\n",
       "    }\n",
       "</style>\n",
       "<table border=\"1\" class=\"dataframe\">\n",
       "  <thead>\n",
       "    <tr style=\"text-align: right;\">\n",
       "      <th></th>\n",
       "      <th>Yoga Studio</th>\n",
       "      <th>Neighborhoods</th>\n",
       "      <th>Average per Neighborhood</th>\n",
       "    </tr>\n",
       "    <tr>\n",
       "      <th>Cluster</th>\n",
       "      <th></th>\n",
       "      <th></th>\n",
       "      <th></th>\n",
       "    </tr>\n",
       "  </thead>\n",
       "  <tbody>\n",
       "    <tr>\n",
       "      <th>0</th>\n",
       "      <td>2</td>\n",
       "      <td>7</td>\n",
       "      <td>0.285714</td>\n",
       "    </tr>\n",
       "    <tr>\n",
       "      <th>1</th>\n",
       "      <td>10</td>\n",
       "      <td>11</td>\n",
       "      <td>0.909091</td>\n",
       "    </tr>\n",
       "    <tr>\n",
       "      <th>2</th>\n",
       "      <td>1</td>\n",
       "      <td>9</td>\n",
       "      <td>0.111111</td>\n",
       "    </tr>\n",
       "    <tr>\n",
       "      <th>3</th>\n",
       "      <td>1</td>\n",
       "      <td>3</td>\n",
       "      <td>0.333333</td>\n",
       "    </tr>\n",
       "  </tbody>\n",
       "</table>\n",
       "</div>"
      ],
      "text/plain": [
       "         Yoga Studio  Neighborhoods  Average per Neighborhood\n",
       "Cluster                                                      \n",
       "0                  2              7                  0.285714\n",
       "1                 10             11                  0.909091\n",
       "2                  1              9                  0.111111\n",
       "3                  1              3                  0.333333"
      ]
     },
     "execution_count": 2002,
     "metadata": {},
     "output_type": "execute_result"
    }
   ],
   "source": [
    "# set number of clusters\n",
    "kclusters = 4\n",
    "\n",
    "# run k-means clustering\n",
    "kmeans = KMeans(n_clusters=kclusters, random_state=42).fit(denver_grouped_clustering)\n",
    "\n",
    "# get the count of each venue category instance by neighborhood\n",
    "denver_grouped_sums['Cluster'] = kmeans.labels_\n",
    "denver_grouped_sums.head()\n",
    "\n",
    "yoga_df = denver_grouped_sums[['Cluster','Yoga Studio']].groupby('Cluster').sum()\n",
    "yoga_df['Neighborhoods'] = denver_grouped_sums['Cluster'].value_counts().sort_index()\n",
    "yoga_df['Average per Neighborhood'] = yoga_df['Yoga Studio']/yoga_df['Neighborhoods']\n",
    "yoga_df"
   ]
  },
  {
   "cell_type": "code",
   "execution_count": 2003,
   "metadata": {},
   "outputs": [
    {
     "data": {
      "text/html": [
       "<div style=\"width:100%;\"><div style=\"position:relative;width:100%;height:0;padding-bottom:60%;\"><iframe src=\"data:text/html;charset=utf-8;base64,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\" style=\"position:absolute;width:100%;height:100%;left:0;top:0;border:none !important;\" allowfullscreen webkitallowfullscreen mozallowfullscreen></iframe></div></div>"
      ],
      "text/plain": [
       "<folium.folium.Map at 0x2527a8af828>"
      ]
     },
     "execution_count": 2003,
     "metadata": {},
     "output_type": "execute_result"
    }
   ],
   "source": [
    "# create dataframe of neighborhood coordinates and clusters\n",
    "denver_merged = df[[nbhd in set(denver_venues_reduced['Neighborhood']) for nbhd in df['Neighborhood']]]\n",
    "denver_merged = denver_merged.merge(denver_grouped_sums[['Neighborhood','Cluster']])\n",
    "denver_merged.head()\n",
    "\n",
    "# create map\n",
    "map_clusters = folium.Map(location=[39.719, -104.95], zoom_start=12)\n",
    "\n",
    "# set color scheme for the clusters\n",
    "x = np.arange(kclusters)\n",
    "ys = [i + x + (i*x)**2 for i in range(kclusters)]\n",
    "colors_array = cm.brg(np.linspace(0, 1, len(ys)))\n",
    "rainbow = [colors.rgb2hex(i) for i in colors_array]\n",
    "\n",
    "# add markers to the map\n",
    "markers_colors = []\n",
    "for lat, lon, poi, cluster in zip(denver_merged['Latitude'], denver_merged['Longitude'], denver_merged['Neighborhood'], denver_merged['Cluster']):\n",
    "    label = folium.Popup(str(poi) + ' Cluster ' + str(cluster), parse_html=True)\n",
    "    folium.CircleMarker(\n",
    "        [lat, lon],\n",
    "        radius=5,\n",
    "        popup=label,\n",
    "        color=rainbow[cluster-1],\n",
    "        fill=True,\n",
    "        fill_color=rainbow[cluster-1],\n",
    "        fill_opacity=0.7).add_to(map_clusters)\n",
    "       \n",
    "map_clusters"
   ]
  },
  {
   "cell_type": "markdown",
   "metadata": {},
   "source": [
    "Let's make a dataframe for the average number of each venue type per neighborhood for each cluster."
   ]
  },
  {
   "cell_type": "code",
   "execution_count": 2021,
   "metadata": {
    "scrolled": true
   },
   "outputs": [
    {
     "data": {
      "text/html": [
       "<div>\n",
       "<style scoped>\n",
       "    .dataframe tbody tr th:only-of-type {\n",
       "        vertical-align: middle;\n",
       "    }\n",
       "\n",
       "    .dataframe tbody tr th {\n",
       "        vertical-align: top;\n",
       "    }\n",
       "\n",
       "    .dataframe thead th {\n",
       "        text-align: right;\n",
       "    }\n",
       "</style>\n",
       "<table border=\"1\" class=\"dataframe\">\n",
       "  <thead>\n",
       "    <tr style=\"text-align: right;\">\n",
       "      <th></th>\n",
       "      <th>American Restaurant</th>\n",
       "      <th>Art Gallery</th>\n",
       "      <th>Asian Restaurant</th>\n",
       "      <th>BBQ Joint</th>\n",
       "      <th>Bakery</th>\n",
       "      <th>Bank</th>\n",
       "      <th>Bar</th>\n",
       "      <th>Breakfast Spot</th>\n",
       "      <th>Brewery</th>\n",
       "      <th>Burger Joint</th>\n",
       "      <th>...</th>\n",
       "      <th>Pub</th>\n",
       "      <th>Restaurant</th>\n",
       "      <th>Salon / Barbershop</th>\n",
       "      <th>Sandwich Place</th>\n",
       "      <th>Spa</th>\n",
       "      <th>Steakhouse</th>\n",
       "      <th>Sushi Restaurant</th>\n",
       "      <th>Theater</th>\n",
       "      <th>Yoga Studio</th>\n",
       "      <th>Zoo Exhibit</th>\n",
       "    </tr>\n",
       "    <tr>\n",
       "      <th>Cluster</th>\n",
       "      <th></th>\n",
       "      <th></th>\n",
       "      <th></th>\n",
       "      <th></th>\n",
       "      <th></th>\n",
       "      <th></th>\n",
       "      <th></th>\n",
       "      <th></th>\n",
       "      <th></th>\n",
       "      <th></th>\n",
       "      <th></th>\n",
       "      <th></th>\n",
       "      <th></th>\n",
       "      <th></th>\n",
       "      <th></th>\n",
       "      <th></th>\n",
       "      <th></th>\n",
       "      <th></th>\n",
       "      <th></th>\n",
       "      <th></th>\n",
       "      <th></th>\n",
       "    </tr>\n",
       "  </thead>\n",
       "  <tbody>\n",
       "    <tr>\n",
       "      <th>0</th>\n",
       "      <td>0.714286</td>\n",
       "      <td>0.714286</td>\n",
       "      <td>0.714286</td>\n",
       "      <td>0.428571</td>\n",
       "      <td>0.428571</td>\n",
       "      <td>0.428571</td>\n",
       "      <td>2.428571</td>\n",
       "      <td>0.857143</td>\n",
       "      <td>0.714286</td>\n",
       "      <td>0.142857</td>\n",
       "      <td>...</td>\n",
       "      <td>0.428571</td>\n",
       "      <td>0.714286</td>\n",
       "      <td>0.285714</td>\n",
       "      <td>1.714286</td>\n",
       "      <td>1.000000</td>\n",
       "      <td>0.571429</td>\n",
       "      <td>0.285714</td>\n",
       "      <td>0.428571</td>\n",
       "      <td>0.285714</td>\n",
       "      <td>0.0</td>\n",
       "    </tr>\n",
       "    <tr>\n",
       "      <th>1</th>\n",
       "      <td>3.181818</td>\n",
       "      <td>0.454545</td>\n",
       "      <td>0.909091</td>\n",
       "      <td>0.454545</td>\n",
       "      <td>0.727273</td>\n",
       "      <td>0.181818</td>\n",
       "      <td>2.545455</td>\n",
       "      <td>1.363636</td>\n",
       "      <td>2.545455</td>\n",
       "      <td>1.181818</td>\n",
       "      <td>...</td>\n",
       "      <td>0.727273</td>\n",
       "      <td>1.000000</td>\n",
       "      <td>0.454545</td>\n",
       "      <td>1.181818</td>\n",
       "      <td>0.636364</td>\n",
       "      <td>0.363636</td>\n",
       "      <td>1.454545</td>\n",
       "      <td>0.454545</td>\n",
       "      <td>0.909091</td>\n",
       "      <td>0.0</td>\n",
       "    </tr>\n",
       "    <tr>\n",
       "      <th>2</th>\n",
       "      <td>0.444444</td>\n",
       "      <td>0.222222</td>\n",
       "      <td>0.444444</td>\n",
       "      <td>0.222222</td>\n",
       "      <td>0.222222</td>\n",
       "      <td>0.333333</td>\n",
       "      <td>0.444444</td>\n",
       "      <td>0.222222</td>\n",
       "      <td>1.222222</td>\n",
       "      <td>0.111111</td>\n",
       "      <td>...</td>\n",
       "      <td>0.111111</td>\n",
       "      <td>0.222222</td>\n",
       "      <td>0.555556</td>\n",
       "      <td>0.777778</td>\n",
       "      <td>0.333333</td>\n",
       "      <td>0.000000</td>\n",
       "      <td>0.444444</td>\n",
       "      <td>0.000000</td>\n",
       "      <td>0.111111</td>\n",
       "      <td>0.0</td>\n",
       "    </tr>\n",
       "    <tr>\n",
       "      <th>3</th>\n",
       "      <td>1.666667</td>\n",
       "      <td>0.000000</td>\n",
       "      <td>1.333333</td>\n",
       "      <td>0.333333</td>\n",
       "      <td>0.000000</td>\n",
       "      <td>0.333333</td>\n",
       "      <td>1.000000</td>\n",
       "      <td>0.666667</td>\n",
       "      <td>0.000000</td>\n",
       "      <td>0.000000</td>\n",
       "      <td>...</td>\n",
       "      <td>0.333333</td>\n",
       "      <td>0.333333</td>\n",
       "      <td>0.000000</td>\n",
       "      <td>1.333333</td>\n",
       "      <td>0.666667</td>\n",
       "      <td>0.000000</td>\n",
       "      <td>0.000000</td>\n",
       "      <td>0.333333</td>\n",
       "      <td>0.333333</td>\n",
       "      <td>0.0</td>\n",
       "    </tr>\n",
       "  </tbody>\n",
       "</table>\n",
       "<p>4 rows × 46 columns</p>\n",
       "</div>"
      ],
      "text/plain": [
       "         American Restaurant  Art Gallery  Asian Restaurant  BBQ Joint  \\\n",
       "Cluster                                                                  \n",
       "0                   0.714286     0.714286          0.714286   0.428571   \n",
       "1                   3.181818     0.454545          0.909091   0.454545   \n",
       "2                   0.444444     0.222222          0.444444   0.222222   \n",
       "3                   1.666667     0.000000          1.333333   0.333333   \n",
       "\n",
       "           Bakery      Bank       Bar  Breakfast Spot   Brewery  Burger Joint  \\\n",
       "Cluster                                                                         \n",
       "0        0.428571  0.428571  2.428571        0.857143  0.714286      0.142857   \n",
       "1        0.727273  0.181818  2.545455        1.363636  2.545455      1.181818   \n",
       "2        0.222222  0.333333  0.444444        0.222222  1.222222      0.111111   \n",
       "3        0.000000  0.333333  1.000000        0.666667  0.000000      0.000000   \n",
       "\n",
       "            ...            Pub  Restaurant  Salon / Barbershop  \\\n",
       "Cluster     ...                                                  \n",
       "0           ...       0.428571    0.714286            0.285714   \n",
       "1           ...       0.727273    1.000000            0.454545   \n",
       "2           ...       0.111111    0.222222            0.555556   \n",
       "3           ...       0.333333    0.333333            0.000000   \n",
       "\n",
       "         Sandwich Place       Spa  Steakhouse  Sushi Restaurant   Theater  \\\n",
       "Cluster                                                                     \n",
       "0              1.714286  1.000000    0.571429          0.285714  0.428571   \n",
       "1              1.181818  0.636364    0.363636          1.454545  0.454545   \n",
       "2              0.777778  0.333333    0.000000          0.444444  0.000000   \n",
       "3              1.333333  0.666667    0.000000          0.000000  0.333333   \n",
       "\n",
       "         Yoga Studio  Zoo Exhibit  \n",
       "Cluster                            \n",
       "0           0.285714          0.0  \n",
       "1           0.909091          0.0  \n",
       "2           0.111111          0.0  \n",
       "3           0.333333          0.0  \n",
       "\n",
       "[4 rows x 46 columns]"
      ]
     },
     "execution_count": 2021,
     "metadata": {},
     "output_type": "execute_result"
    }
   ],
   "source": [
    "# find the average number of each venue category per cluster\n",
    "venue_clusters = denver_grouped_sums.groupby('Cluster').mean()\n",
    "venue_clusters = venue_clusters\n",
    "\n",
    "venue_clusters.head()"
   ]
  },
  {
   "cell_type": "markdown",
   "metadata": {},
   "source": [
    "Now we can see the average number of yoga studios per neighborhood by cluster."
   ]
  },
  {
   "cell_type": "code",
   "execution_count": 2029,
   "metadata": {
    "scrolled": true
   },
   "outputs": [
    {
     "name": "stdout",
     "output_type": "stream",
     "text": [
      "Cluster 1 has the highest average number of yoga studios per neighborhood.\n"
     ]
    }
   ],
   "source": [
    "avg_yoga_per_neighborhood = venue_clusters['Yoga Studio']\n",
    "yoga_cluster = avg_yoga_per_neighborhood.idxmax()\n",
    "print(\"Cluster {} has the highest average number of yoga studios per neighborhood.\".format(yoga_cluster))"
   ]
  },
  {
   "cell_type": "markdown",
   "metadata": {},
   "source": [
    "What's different about this cluster? Are there more of a specific venue type than other clusters?"
   ]
  },
  {
   "cell_type": "code",
   "execution_count": 2030,
   "metadata": {
    "scrolled": true
   },
   "outputs": [
    {
     "data": {
      "text/html": [
       "<div>\n",
       "<style scoped>\n",
       "    .dataframe tbody tr th:only-of-type {\n",
       "        vertical-align: middle;\n",
       "    }\n",
       "\n",
       "    .dataframe tbody tr th {\n",
       "        vertical-align: top;\n",
       "    }\n",
       "\n",
       "    .dataframe thead th {\n",
       "        text-align: right;\n",
       "    }\n",
       "</style>\n",
       "<table border=\"1\" class=\"dataframe\">\n",
       "  <thead>\n",
       "    <tr style=\"text-align: right;\">\n",
       "      <th>Cluster</th>\n",
       "      <th>0</th>\n",
       "      <th>1</th>\n",
       "      <th>2</th>\n",
       "      <th>3</th>\n",
       "    </tr>\n",
       "  </thead>\n",
       "  <tbody>\n",
       "    <tr>\n",
       "      <th>American Restaurant</th>\n",
       "      <td>0.714286</td>\n",
       "      <td>3.181818</td>\n",
       "      <td>0.444444</td>\n",
       "      <td>1.666667</td>\n",
       "    </tr>\n",
       "    <tr>\n",
       "      <th>BBQ Joint</th>\n",
       "      <td>0.428571</td>\n",
       "      <td>0.454545</td>\n",
       "      <td>0.222222</td>\n",
       "      <td>0.333333</td>\n",
       "    </tr>\n",
       "    <tr>\n",
       "      <th>Bakery</th>\n",
       "      <td>0.428571</td>\n",
       "      <td>0.727273</td>\n",
       "      <td>0.222222</td>\n",
       "      <td>0.000000</td>\n",
       "    </tr>\n",
       "    <tr>\n",
       "      <th>Bar</th>\n",
       "      <td>2.428571</td>\n",
       "      <td>2.545455</td>\n",
       "      <td>0.444444</td>\n",
       "      <td>1.000000</td>\n",
       "    </tr>\n",
       "    <tr>\n",
       "      <th>Breakfast Spot</th>\n",
       "      <td>0.857143</td>\n",
       "      <td>1.363636</td>\n",
       "      <td>0.222222</td>\n",
       "      <td>0.666667</td>\n",
       "    </tr>\n",
       "    <tr>\n",
       "      <th>Brewery</th>\n",
       "      <td>0.714286</td>\n",
       "      <td>2.545455</td>\n",
       "      <td>1.222222</td>\n",
       "      <td>0.000000</td>\n",
       "    </tr>\n",
       "    <tr>\n",
       "      <th>Burger Joint</th>\n",
       "      <td>0.142857</td>\n",
       "      <td>1.181818</td>\n",
       "      <td>0.111111</td>\n",
       "      <td>0.000000</td>\n",
       "    </tr>\n",
       "    <tr>\n",
       "      <th>Café</th>\n",
       "      <td>0.857143</td>\n",
       "      <td>1.090909</td>\n",
       "      <td>0.111111</td>\n",
       "      <td>0.000000</td>\n",
       "    </tr>\n",
       "    <tr>\n",
       "      <th>Clothing Store</th>\n",
       "      <td>0.285714</td>\n",
       "      <td>0.909091</td>\n",
       "      <td>0.333333</td>\n",
       "      <td>0.333333</td>\n",
       "    </tr>\n",
       "    <tr>\n",
       "      <th>Cocktail Bar</th>\n",
       "      <td>0.000000</td>\n",
       "      <td>1.636364</td>\n",
       "      <td>0.111111</td>\n",
       "      <td>0.000000</td>\n",
       "    </tr>\n",
       "    <tr>\n",
       "      <th>Cosmetics Shop</th>\n",
       "      <td>0.000000</td>\n",
       "      <td>0.636364</td>\n",
       "      <td>0.222222</td>\n",
       "      <td>0.333333</td>\n",
       "    </tr>\n",
       "    <tr>\n",
       "      <th>Hotel</th>\n",
       "      <td>0.428571</td>\n",
       "      <td>0.909091</td>\n",
       "      <td>0.555556</td>\n",
       "      <td>0.000000</td>\n",
       "    </tr>\n",
       "    <tr>\n",
       "      <th>Italian Restaurant</th>\n",
       "      <td>0.285714</td>\n",
       "      <td>2.181818</td>\n",
       "      <td>0.444444</td>\n",
       "      <td>1.666667</td>\n",
       "    </tr>\n",
       "    <tr>\n",
       "      <th>Japanese Restaurant</th>\n",
       "      <td>0.714286</td>\n",
       "      <td>0.727273</td>\n",
       "      <td>0.333333</td>\n",
       "      <td>0.000000</td>\n",
       "    </tr>\n",
       "    <tr>\n",
       "      <th>Mexican Restaurant</th>\n",
       "      <td>1.571429</td>\n",
       "      <td>3.090909</td>\n",
       "      <td>2.444444</td>\n",
       "      <td>0.666667</td>\n",
       "    </tr>\n",
       "    <tr>\n",
       "      <th>Music Venue</th>\n",
       "      <td>0.285714</td>\n",
       "      <td>0.454545</td>\n",
       "      <td>0.000000</td>\n",
       "      <td>0.333333</td>\n",
       "    </tr>\n",
       "    <tr>\n",
       "      <th>New American Restaurant</th>\n",
       "      <td>0.000000</td>\n",
       "      <td>0.909091</td>\n",
       "      <td>0.111111</td>\n",
       "      <td>0.666667</td>\n",
       "    </tr>\n",
       "    <tr>\n",
       "      <th>Pizza Place</th>\n",
       "      <td>1.428571</td>\n",
       "      <td>2.909091</td>\n",
       "      <td>1.888889</td>\n",
       "      <td>0.000000</td>\n",
       "    </tr>\n",
       "    <tr>\n",
       "      <th>Pub</th>\n",
       "      <td>0.428571</td>\n",
       "      <td>0.727273</td>\n",
       "      <td>0.111111</td>\n",
       "      <td>0.333333</td>\n",
       "    </tr>\n",
       "    <tr>\n",
       "      <th>Restaurant</th>\n",
       "      <td>0.714286</td>\n",
       "      <td>1.000000</td>\n",
       "      <td>0.222222</td>\n",
       "      <td>0.333333</td>\n",
       "    </tr>\n",
       "    <tr>\n",
       "      <th>Sushi Restaurant</th>\n",
       "      <td>0.285714</td>\n",
       "      <td>1.454545</td>\n",
       "      <td>0.444444</td>\n",
       "      <td>0.000000</td>\n",
       "    </tr>\n",
       "    <tr>\n",
       "      <th>Theater</th>\n",
       "      <td>0.428571</td>\n",
       "      <td>0.454545</td>\n",
       "      <td>0.000000</td>\n",
       "      <td>0.333333</td>\n",
       "    </tr>\n",
       "    <tr>\n",
       "      <th>Yoga Studio</th>\n",
       "      <td>0.285714</td>\n",
       "      <td>0.909091</td>\n",
       "      <td>0.111111</td>\n",
       "      <td>0.333333</td>\n",
       "    </tr>\n",
       "    <tr>\n",
       "      <th>Zoo Exhibit</th>\n",
       "      <td>0.000000</td>\n",
       "      <td>0.000000</td>\n",
       "      <td>0.000000</td>\n",
       "      <td>0.000000</td>\n",
       "    </tr>\n",
       "  </tbody>\n",
       "</table>\n",
       "</div>"
      ],
      "text/plain": [
       "Cluster                         0         1         2         3\n",
       "American Restaurant      0.714286  3.181818  0.444444  1.666667\n",
       "BBQ Joint                0.428571  0.454545  0.222222  0.333333\n",
       "Bakery                   0.428571  0.727273  0.222222  0.000000\n",
       "Bar                      2.428571  2.545455  0.444444  1.000000\n",
       "Breakfast Spot           0.857143  1.363636  0.222222  0.666667\n",
       "Brewery                  0.714286  2.545455  1.222222  0.000000\n",
       "Burger Joint             0.142857  1.181818  0.111111  0.000000\n",
       "Café                     0.857143  1.090909  0.111111  0.000000\n",
       "Clothing Store           0.285714  0.909091  0.333333  0.333333\n",
       "Cocktail Bar             0.000000  1.636364  0.111111  0.000000\n",
       "Cosmetics Shop           0.000000  0.636364  0.222222  0.333333\n",
       "Hotel                    0.428571  0.909091  0.555556  0.000000\n",
       "Italian Restaurant       0.285714  2.181818  0.444444  1.666667\n",
       "Japanese Restaurant      0.714286  0.727273  0.333333  0.000000\n",
       "Mexican Restaurant       1.571429  3.090909  2.444444  0.666667\n",
       "Music Venue              0.285714  0.454545  0.000000  0.333333\n",
       "New American Restaurant  0.000000  0.909091  0.111111  0.666667\n",
       "Pizza Place              1.428571  2.909091  1.888889  0.000000\n",
       "Pub                      0.428571  0.727273  0.111111  0.333333\n",
       "Restaurant               0.714286  1.000000  0.222222  0.333333\n",
       "Sushi Restaurant         0.285714  1.454545  0.444444  0.000000\n",
       "Theater                  0.428571  0.454545  0.000000  0.333333\n",
       "Yoga Studio              0.285714  0.909091  0.111111  0.333333\n",
       "Zoo Exhibit              0.000000  0.000000  0.000000  0.000000"
      ]
     },
     "execution_count": 2030,
     "metadata": {},
     "output_type": "execute_result"
    }
   ],
   "source": [
    "venue_clusters = venue_clusters.T\n",
    "venue_clusters[venue_clusters.max(axis=1)==venue_clusters[yoga_cluster]]"
   ]
  },
  {
   "cell_type": "markdown",
   "metadata": {},
   "source": [
    "The brewery counts sticks out since it has twice the second clusters value. Is it possible that the same people who are interested in brewing are interested in yoga?\n",
    "\n",
    "Now, are there less of a certain venue type?"
   ]
  },
  {
   "cell_type": "code",
   "execution_count": 2033,
   "metadata": {},
   "outputs": [
    {
     "data": {
      "text/html": [
       "<div>\n",
       "<style scoped>\n",
       "    .dataframe tbody tr th:only-of-type {\n",
       "        vertical-align: middle;\n",
       "    }\n",
       "\n",
       "    .dataframe tbody tr th {\n",
       "        vertical-align: top;\n",
       "    }\n",
       "\n",
       "    .dataframe thead th {\n",
       "        text-align: right;\n",
       "    }\n",
       "</style>\n",
       "<table border=\"1\" class=\"dataframe\">\n",
       "  <thead>\n",
       "    <tr style=\"text-align: right;\">\n",
       "      <th>Cluster</th>\n",
       "      <th>0</th>\n",
       "      <th>1</th>\n",
       "      <th>2</th>\n",
       "      <th>3</th>\n",
       "    </tr>\n",
       "  </thead>\n",
       "  <tbody>\n",
       "    <tr>\n",
       "      <th>Bank</th>\n",
       "      <td>0.428571</td>\n",
       "      <td>0.181818</td>\n",
       "      <td>0.333333</td>\n",
       "      <td>0.333333</td>\n",
       "    </tr>\n",
       "    <tr>\n",
       "      <th>Dive Bar</th>\n",
       "      <td>0.571429</td>\n",
       "      <td>0.272727</td>\n",
       "      <td>0.444444</td>\n",
       "      <td>0.333333</td>\n",
       "    </tr>\n",
       "    <tr>\n",
       "      <th>Grocery Store</th>\n",
       "      <td>0.571429</td>\n",
       "      <td>0.545455</td>\n",
       "      <td>1.111111</td>\n",
       "      <td>1.000000</td>\n",
       "    </tr>\n",
       "    <tr>\n",
       "      <th>Liquor Store</th>\n",
       "      <td>0.428571</td>\n",
       "      <td>0.363636</td>\n",
       "      <td>1.555556</td>\n",
       "      <td>1.666667</td>\n",
       "    </tr>\n",
       "    <tr>\n",
       "      <th>Park</th>\n",
       "      <td>1.142857</td>\n",
       "      <td>0.636364</td>\n",
       "      <td>1.777778</td>\n",
       "      <td>3.000000</td>\n",
       "    </tr>\n",
       "    <tr>\n",
       "      <th>Zoo Exhibit</th>\n",
       "      <td>0.000000</td>\n",
       "      <td>0.000000</td>\n",
       "      <td>0.000000</td>\n",
       "      <td>0.000000</td>\n",
       "    </tr>\n",
       "  </tbody>\n",
       "</table>\n",
       "</div>"
      ],
      "text/plain": [
       "Cluster               0         1         2         3\n",
       "Bank           0.428571  0.181818  0.333333  0.333333\n",
       "Dive Bar       0.571429  0.272727  0.444444  0.333333\n",
       "Grocery Store  0.571429  0.545455  1.111111  1.000000\n",
       "Liquor Store   0.428571  0.363636  1.555556  1.666667\n",
       "Park           1.142857  0.636364  1.777778  3.000000\n",
       "Zoo Exhibit    0.000000  0.000000  0.000000  0.000000"
      ]
     },
     "execution_count": 2033,
     "metadata": {},
     "output_type": "execute_result"
    }
   ],
   "source": [
    "venue_clusters[venue_clusters.min(axis=1)==venue_clusters[yoga_cluster]]"
   ]
  },
  {
   "cell_type": "markdown",
   "metadata": {},
   "source": [
    "Clearly the yoga enthusiasts don't like to drink as much as the rest of the city, nor do they go to the bank as often.\n",
    "\n",
    "Are there any neighborhoods in this cluster that do not have a yoga studio in them? If so, we should open one there!"
   ]
  },
  {
   "cell_type": "code",
   "execution_count": 2032,
   "metadata": {},
   "outputs": [
    {
     "data": {
      "text/plain": [
       "['Auraria', 'City Park West', 'LoDo', 'Union Station']"
      ]
     },
     "execution_count": 2032,
     "metadata": {},
     "output_type": "execute_result"
    }
   ],
   "source": [
    "solution = list(denver_grouped_sums[(denver_grouped_sums['Yoga Studio']==0) & (denver_grouped_sums['Cluster']==yoga_cluster)]['Neighborhood'])\n",
    "solution"
   ]
  },
  {
   "cell_type": "markdown",
   "metadata": {},
   "source": [
    "Let's see the the area where we are going to set up the new yoga studio."
   ]
  },
  {
   "cell_type": "code",
   "execution_count": 2007,
   "metadata": {},
   "outputs": [
    {
     "data": {
      "text/html": [
       "<div style=\"width:100%;\"><div style=\"position:relative;width:100%;height:0;padding-bottom:60%;\"><iframe src=\"data:text/html;charset=utf-8;base64,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\" style=\"position:absolute;width:100%;height:100%;left:0;top:0;border:none !important;\" allowfullscreen webkitallowfullscreen mozallowfullscreen></iframe></div></div>"
      ],
      "text/plain": [
       "<folium.folium.Map at 0x2527a7e42b0>"
      ]
     },
     "execution_count": 2007,
     "metadata": {},
     "output_type": "execute_result"
    }
   ],
   "source": [
    "# create map of Denver using latitude and longitude values\n",
    "map_denver = folium.Map(location=[39.75, -104.998], zoom_start=14)\n",
    "\n",
    "df_solution = df[[nbhd in solution for nbhd in df['Neighborhood']]]\n",
    "\n",
    "# add markers to map\n",
    "for lat, lng, borough, neighborhood in zip(df_solution['Latitude'], df_solution['Longitude'], df_solution['Area'], df_solution['Neighborhood']):\n",
    "    label = '{}, {}'.format(neighborhood, borough)\n",
    "    label = folium.Popup(label, parse_html=True)\n",
    "    folium.CircleMarker(\n",
    "        [lat, lng],\n",
    "        radius=5,\n",
    "        popup=label,\n",
    "        color='blue',\n",
    "        fill=True,\n",
    "        fill_color='#3186cc',\n",
    "        fill_opacity=0.7,\n",
    "        parse_html=False).add_to(map_denver)  \n",
    "    \n",
    "map_denver"
   ]
  },
  {
   "cell_type": "markdown",
   "metadata": {},
   "source": [
    "This is right on the University of Colorado campus!  \n",
    "\n",
    "My friend also wants to be a professor. Maybe he could teach at the university while he runs his yoga studio."
   ]
  },
  {
   "cell_type": "code",
   "execution_count": null,
   "metadata": {},
   "outputs": [],
   "source": []
  },
  {
   "cell_type": "code",
   "execution_count": null,
   "metadata": {},
   "outputs": [],
   "source": []
  }
 ],
 "metadata": {
  "kernelspec": {
   "display_name": "Python 3",
   "language": "python",
   "name": "python3"
  },
  "language_info": {
   "codemirror_mode": {
    "name": "ipython",
    "version": 3
   },
   "file_extension": ".py",
   "mimetype": "text/x-python",
   "name": "python",
   "nbconvert_exporter": "python",
   "pygments_lexer": "ipython3",
   "version": "3.6.5"
  }
 },
 "nbformat": 4,
 "nbformat_minor": 2
}
