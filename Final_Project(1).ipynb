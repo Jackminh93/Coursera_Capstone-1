{
 "cells": [
  {
   "cell_type": "markdown",
   "metadata": {},
   "source": [
    "# Yoga for the Yoga-less\n",
    "Parker Servello\n",
    "\n",
    "\n",
    "__Objective:__  \n",
    "My friend frequently ruminates aloud about his dream of operating a yoga studio. This project will be the first step in making that dream become reality. Since we are going to Denver, Colorado next week, we will work under the assumption that he will fall in love with it and want to settle down there. We will determine the best location for this endeavor by clustering neighborhoods together that typically have yoga studios in them, then choosing an area within that cluster that either has too few or no yoga studios.  \n",
    "\n",
    "__Data Collection:__  \n",
    "We will leverage geo-location data for the neighborhoods listed in wikipedia as well as nearby venue data queried from foursquare's API for each neighborhood's coordinates. The clusters will be formed using the venue type frequency for each neighborhood.\n",
    "\n"
   ]
  },
  {
   "cell_type": "code",
   "execution_count": 1,
   "metadata": {},
   "outputs": [],
   "source": [
    "import requests\n",
    "from bs4 import BeautifulSoup\n",
    "import pandas as pd\n",
    "import folium\n",
    "import matplotlib.pyplot as plt\n",
    "from pandas.io.json import json_normalize\n",
    "import numpy as np\n",
    "from sklearn.cluster import KMeans\n",
    "import matplotlib.cm as cm\n",
    "import matplotlib.colors as colors\n",
    "from sklearn import metrics\n",
    "from scipy.spatial.distance import cdist"
   ]
  },
  {
   "cell_type": "markdown",
   "metadata": {},
   "source": [
    "## Extracting neighborhood geo-data from wikipedia"
   ]
  },
  {
   "cell_type": "markdown",
   "metadata": {},
   "source": [
    "First let's get a dataframe of the neighborhoods with their cardinal area and wiki href."
   ]
  },
  {
   "cell_type": "code",
   "execution_count": 2,
   "metadata": {},
   "outputs": [
    {
     "data": {
      "text/html": [
       "<div>\n",
       "<style scoped>\n",
       "    .dataframe tbody tr th:only-of-type {\n",
       "        vertical-align: middle;\n",
       "    }\n",
       "\n",
       "    .dataframe tbody tr th {\n",
       "        vertical-align: top;\n",
       "    }\n",
       "\n",
       "    .dataframe thead th {\n",
       "        text-align: right;\n",
       "    }\n",
       "</style>\n",
       "<table border=\"1\" class=\"dataframe\">\n",
       "  <thead>\n",
       "    <tr style=\"text-align: right;\">\n",
       "      <th></th>\n",
       "      <th>Area</th>\n",
       "      <th>Neighborhood</th>\n",
       "      <th>href</th>\n",
       "    </tr>\n",
       "  </thead>\n",
       "  <tbody>\n",
       "    <tr>\n",
       "      <th>0</th>\n",
       "      <td>Central</td>\n",
       "      <td>Baker</td>\n",
       "      <td>/wiki/Baker,_Denver</td>\n",
       "    </tr>\n",
       "    <tr>\n",
       "      <th>1</th>\n",
       "      <td>Central</td>\n",
       "      <td>Capitol Hill</td>\n",
       "      <td>/wiki/Capitol_Hill,_Denver</td>\n",
       "    </tr>\n",
       "    <tr>\n",
       "      <th>2</th>\n",
       "      <td>Central</td>\n",
       "      <td>Central Business District</td>\n",
       "      <td>/wiki/Downtown_Denver</td>\n",
       "    </tr>\n",
       "    <tr>\n",
       "      <th>3</th>\n",
       "      <td>Central</td>\n",
       "      <td>Cherry Creek</td>\n",
       "      <td>/wiki/Cherry_Creek,_Denver</td>\n",
       "    </tr>\n",
       "    <tr>\n",
       "      <th>4</th>\n",
       "      <td>Central</td>\n",
       "      <td>Cheesman Park</td>\n",
       "      <td>/wiki/Cheesman_Park,_Denver</td>\n",
       "    </tr>\n",
       "  </tbody>\n",
       "</table>\n",
       "</div>"
      ],
      "text/plain": [
       "      Area               Neighborhood                         href\n",
       "0  Central                      Baker          /wiki/Baker,_Denver\n",
       "1  Central               Capitol Hill   /wiki/Capitol_Hill,_Denver\n",
       "2  Central  Central Business District        /wiki/Downtown_Denver\n",
       "3  Central               Cherry Creek   /wiki/Cherry_Creek,_Denver\n",
       "4  Central              Cheesman Park  /wiki/Cheesman_Park,_Denver"
      ]
     },
     "execution_count": 2,
     "metadata": {},
     "output_type": "execute_result"
    }
   ],
   "source": [
    "page = requests.get(r'https://en.wikipedia.org/wiki/List_of_neighborhoods_in_Denver')\n",
    "soup = BeautifulSoup(page.text, 'lxml')\n",
    "\n",
    "denver_division = [div.text for div in soup.find_all('span', class_='mw-headline')][:-3]\n",
    "\n",
    "df = []\n",
    "for div, lst in zip(denver_division,soup.find_all('ul')[1:11]):\n",
    "    df.extend([(div, nbhd.text, nbhd['href']) for nbhd in lst.find_all('a')])\n",
    "    \n",
    "df = pd.DataFrame(df, columns=['Area','Neighborhood','href'])\n",
    "\n",
    "df.head()"
   ]
  },
  {
   "cell_type": "markdown",
   "metadata": {},
   "source": [
    "Now we'll go to each of the neighborhood links to extract coordinates."
   ]
  },
  {
   "cell_type": "code",
   "execution_count": 3,
   "metadata": {},
   "outputs": [],
   "source": [
    "lat,lon = [],[]\n",
    "for href in df['href']:\n",
    "    \n",
    "    url = 'https://en.wikipedia.org' + href\n",
    "    \n",
    "    page = requests.get(url)\n",
    "    soup = BeautifulSoup(page.text, 'lxml')\n",
    "    \n",
    "    try:\n",
    "        coord = soup.find_all('span', class_='geo')[0].text\n",
    "        lat.append(coord.split(\";\")[0])\n",
    "        lon.append(coord.split(\" \")[1])\n",
    "    \n",
    "    except:\n",
    "        lat.append(\"0\")\n",
    "        lon.append(\"0\")\n",
    "        \n",
    "first_count = len(df)\n",
    "        \n",
    "# add latitude and longitude to dataframe and remove the href column  \n",
    "df['Latitude'] = list(map(float,lat))\n",
    "df['Longitude'] = list(map(float,lon))\n",
    "df.drop('href', axis=1, inplace=True)"
   ]
  },
  {
   "cell_type": "markdown",
   "metadata": {},
   "source": [
    "Let's remove neighborhoods that didn't have a wikipedia page."
   ]
  },
  {
   "cell_type": "code",
   "execution_count": 4,
   "metadata": {},
   "outputs": [],
   "source": [
    "df = df[df['Latitude'] != 0].reset_index(drop=True)\n",
    "\n",
    "# store number of neighborhoods\n",
    "second_count = len(df)"
   ]
  },
  {
   "cell_type": "markdown",
   "metadata": {},
   "source": [
    "## Exploring the neighborhoods"
   ]
  },
  {
   "cell_type": "code",
   "execution_count": 5,
   "metadata": {},
   "outputs": [
    {
     "name": "stdout",
     "output_type": "stream",
     "text": [
      "Initially there were 91 neighborhoods. 41 were removed because there is no associated wikipedia page.\n",
      "Also, let's get rid of the airport and Montbello because they are practically outside of Denver.\n"
     ]
    }
   ],
   "source": [
    "print(\"Initially there were {} neighborhoods. {} were removed because there is no associated wikipedia page.\\n\\\n",
    "Also, let's get rid of the airport and Montbello because they are practically outside of Denver.\".\n",
    "     format(first_count, first_count-second_count))\n"
   ]
  },
  {
   "cell_type": "code",
   "execution_count": 6,
   "metadata": {},
   "outputs": [
    {
     "data": {
      "text/html": [
       "<div>\n",
       "<style scoped>\n",
       "    .dataframe tbody tr th:only-of-type {\n",
       "        vertical-align: middle;\n",
       "    }\n",
       "\n",
       "    .dataframe tbody tr th {\n",
       "        vertical-align: top;\n",
       "    }\n",
       "\n",
       "    .dataframe thead th {\n",
       "        text-align: right;\n",
       "    }\n",
       "</style>\n",
       "<table border=\"1\" class=\"dataframe\">\n",
       "  <thead>\n",
       "    <tr style=\"text-align: right;\">\n",
       "      <th></th>\n",
       "      <th>Area</th>\n",
       "      <th>Neighborhood</th>\n",
       "      <th>Latitude</th>\n",
       "      <th>Longitude</th>\n",
       "    </tr>\n",
       "  </thead>\n",
       "  <tbody>\n",
       "    <tr>\n",
       "      <th>0</th>\n",
       "      <td>Central</td>\n",
       "      <td>Baker</td>\n",
       "      <td>39.723919</td>\n",
       "      <td>-104.995150</td>\n",
       "    </tr>\n",
       "    <tr>\n",
       "      <th>1</th>\n",
       "      <td>Central</td>\n",
       "      <td>Capitol Hill</td>\n",
       "      <td>39.733000</td>\n",
       "      <td>-104.983000</td>\n",
       "    </tr>\n",
       "    <tr>\n",
       "      <th>2</th>\n",
       "      <td>Central</td>\n",
       "      <td>Central Business District</td>\n",
       "      <td>39.745870</td>\n",
       "      <td>-104.992819</td>\n",
       "    </tr>\n",
       "    <tr>\n",
       "      <th>3</th>\n",
       "      <td>Central</td>\n",
       "      <td>Cherry Creek</td>\n",
       "      <td>39.720967</td>\n",
       "      <td>-104.949804</td>\n",
       "    </tr>\n",
       "    <tr>\n",
       "      <th>4</th>\n",
       "      <td>Central</td>\n",
       "      <td>Cheesman Park</td>\n",
       "      <td>39.732780</td>\n",
       "      <td>-104.965830</td>\n",
       "    </tr>\n",
       "  </tbody>\n",
       "</table>\n",
       "</div>"
      ],
      "text/plain": [
       "      Area               Neighborhood   Latitude   Longitude\n",
       "0  Central                      Baker  39.723919 -104.995150\n",
       "1  Central               Capitol Hill  39.733000 -104.983000\n",
       "2  Central  Central Business District  39.745870 -104.992819\n",
       "3  Central               Cherry Creek  39.720967 -104.949804\n",
       "4  Central              Cheesman Park  39.732780 -104.965830"
      ]
     },
     "execution_count": 6,
     "metadata": {},
     "output_type": "execute_result"
    }
   ],
   "source": [
    "df = df[[nbhd not in ['Denver International Airport','Montbello'] for nbhd in df['Neighborhood']]]\n",
    "df.head()"
   ]
  },
  {
   "cell_type": "code",
   "execution_count": 7,
   "metadata": {
    "scrolled": false
   },
   "outputs": [
    {
     "data": {
      "text/html": [
       "<div style=\"width:100%;\"><div style=\"position:relative;width:100%;height:0;padding-bottom:60%;\"><iframe src=\"data:text/html;charset=utf-8;base64,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\" style=\"position:absolute;width:100%;height:100%;left:0;top:0;border:none !important;\" allowfullscreen webkitallowfullscreen mozallowfullscreen></iframe></div></div>"
      ],
      "text/plain": [
       "<folium.folium.Map at 0x285de3eb3c8>"
      ]
     },
     "execution_count": 7,
     "metadata": {},
     "output_type": "execute_result"
    }
   ],
   "source": [
    "# create map of Denver using latitude and longitude values\n",
    "map_denver = folium.Map(location=[39.719, -104.95], zoom_start=12)\n",
    "\n",
    "# add markers to map\n",
    "for lat, lng, borough, neighborhood in zip(df['Latitude'], df['Longitude'], df['Area'], df['Neighborhood']):\n",
    "    label = '{}, {}'.format(neighborhood, borough)\n",
    "    label = folium.Popup(label, parse_html=True)\n",
    "    folium.CircleMarker(\n",
    "        [lat, lng],\n",
    "        radius=5,\n",
    "        popup=label,\n",
    "        color='blue',\n",
    "        fill=True,\n",
    "        fill_color='#3186cc',\n",
    "        fill_opacity=0.7,\n",
    "        parse_html=False).add_to(map_denver)  \n",
    "    \n",
    "map_denver"
   ]
  },
  {
   "cell_type": "markdown",
   "metadata": {},
   "source": [
    "## Requesting data from Foursquare"
   ]
  },
  {
   "cell_type": "markdown",
   "metadata": {},
   "source": [
    "First, we need to enter credentials from a Foursquare account."
   ]
  },
  {
   "cell_type": "code",
   "execution_count": 8,
   "metadata": {},
   "outputs": [],
   "source": [
    "CLIENT_ID = 'my_id'\n",
    "CLIENT_SECRET = 'my_secret'\n",
    "VERSION = '20180605'"
   ]
  },
  {
   "cell_type": "markdown",
   "metadata": {},
   "source": [
    "Now we can request the data."
   ]
  },
  {
   "cell_type": "markdown",
   "metadata": {},
   "source": [
    "Creating a function that extracts the nearby venues"
   ]
  },
  {
   "cell_type": "code",
   "execution_count": 9,
   "metadata": {},
   "outputs": [],
   "source": [
    "def get_nearby_venues(names, latitudes, longitudes, radius=1000, LIMIT=100):\n",
    "    \n",
    "    venues_list=[]\n",
    "    for name, lat, lng in zip(names, latitudes, longitudes):\n",
    "            \n",
    "        # create the API request URL\n",
    "        url = 'https://api.foursquare.com/v2/venues/explore?&client_id={}&client_secret={}&v={}&ll={},{}&radius={}&limit={}'.format(\n",
    "            CLIENT_ID,  CLIENT_SECRET, VERSION, lat, lng, radius, LIMIT)\n",
    "            \n",
    "        # make the GET request\n",
    "        results = requests.get(url).json()[\"response\"]['groups'][0]['items']\n",
    "    \n",
    "        # return only relevant information for each nearby venue\n",
    "        venues_list.append([(\n",
    "            name, \n",
    "            lat, \n",
    "            lng, \n",
    "            v['venue']['name'], \n",
    "            v['venue']['location']['lat'], \n",
    "            v['venue']['location']['lng'],  \n",
    "            v['venue']['categories'][0]['name']) for v in results])\n",
    "\n",
    "    nearby_venues = pd.DataFrame([item for venue_list in venues_list for item in venue_list])\n",
    "    nearby_venues.columns = ['Neighborhood', \n",
    "                  'Neighborhood Latitude', \n",
    "                  'Neighborhood Longitude', \n",
    "                  'Venue', \n",
    "                  'Venue Latitude', \n",
    "                  'Venue Longitude', \n",
    "                  'Venue Category']\n",
    "    \n",
    "    return(nearby_venues)"
   ]
  },
  {
   "cell_type": "markdown",
   "metadata": {},
   "source": [
    "Running the function to create the dataframe of venues pulled from foursquare."
   ]
  },
  {
   "cell_type": "code",
   "execution_count": 10,
   "metadata": {},
   "outputs": [],
   "source": [
    "denver_venues = get_nearby_venues(names=df['Neighborhood'],\n",
    "                                   latitudes=df['Latitude'],\n",
    "                                   longitudes=df['Longitude'])"
   ]
  },
  {
   "cell_type": "markdown",
   "metadata": {},
   "source": [
    "There are going to be duplicate venues, so we should only attribute each venue to its' closest neighborhood. Let's compute the distance from each venue to each associated neighborhood and remove the duplicates."
   ]
  },
  {
   "cell_type": "code",
   "execution_count": 11,
   "metadata": {
    "scrolled": false
   },
   "outputs": [
    {
     "name": "stdout",
     "output_type": "stream",
     "text": [
      "Removed 789 duplicate venues. 2167 remain.\n"
     ]
    },
    {
     "data": {
      "text/html": [
       "<div>\n",
       "<style scoped>\n",
       "    .dataframe tbody tr th:only-of-type {\n",
       "        vertical-align: middle;\n",
       "    }\n",
       "\n",
       "    .dataframe tbody tr th {\n",
       "        vertical-align: top;\n",
       "    }\n",
       "\n",
       "    .dataframe thead th {\n",
       "        text-align: right;\n",
       "    }\n",
       "</style>\n",
       "<table border=\"1\" class=\"dataframe\">\n",
       "  <thead>\n",
       "    <tr style=\"text-align: right;\">\n",
       "      <th></th>\n",
       "      <th>Neighborhood</th>\n",
       "      <th>Neighborhood Latitude</th>\n",
       "      <th>Neighborhood Longitude</th>\n",
       "      <th>Venue</th>\n",
       "      <th>Venue Latitude</th>\n",
       "      <th>Venue Longitude</th>\n",
       "      <th>Venue Category</th>\n",
       "      <th>Venue Distance</th>\n",
       "    </tr>\n",
       "  </thead>\n",
       "  <tbody>\n",
       "    <tr>\n",
       "      <th>2023</th>\n",
       "      <td>Chaffee Park</td>\n",
       "      <td>39.787432</td>\n",
       "      <td>-105.015827</td>\n",
       "      <td>Little Caesars Pizza</td>\n",
       "      <td>39.787400</td>\n",
       "      <td>-105.015902</td>\n",
       "      <td>Pizza Place</td>\n",
       "      <td>0.000082</td>\n",
       "    </tr>\n",
       "    <tr>\n",
       "      <th>732</th>\n",
       "      <td>Civic Center</td>\n",
       "      <td>39.739440</td>\n",
       "      <td>-104.988890</td>\n",
       "      <td>Civic Center Park</td>\n",
       "      <td>39.739370</td>\n",
       "      <td>-104.988776</td>\n",
       "      <td>Park</td>\n",
       "      <td>0.000134</td>\n",
       "    </tr>\n",
       "    <tr>\n",
       "      <th>1695</th>\n",
       "      <td>Five Points</td>\n",
       "      <td>39.754779</td>\n",
       "      <td>-104.978051</td>\n",
       "      <td>Five Points</td>\n",
       "      <td>39.754647</td>\n",
       "      <td>-104.978099</td>\n",
       "      <td>Neighborhood</td>\n",
       "      <td>0.000141</td>\n",
       "    </tr>\n",
       "    <tr>\n",
       "      <th>1448</th>\n",
       "      <td>Montclair</td>\n",
       "      <td>39.734914</td>\n",
       "      <td>-104.908769</td>\n",
       "      <td>Montclair Park</td>\n",
       "      <td>39.734769</td>\n",
       "      <td>-104.908689</td>\n",
       "      <td>Park</td>\n",
       "      <td>0.000165</td>\n",
       "    </tr>\n",
       "    <tr>\n",
       "      <th>1662</th>\n",
       "      <td>Five Points</td>\n",
       "      <td>39.754779</td>\n",
       "      <td>-104.978051</td>\n",
       "      <td>Coffee at The Point</td>\n",
       "      <td>39.754699</td>\n",
       "      <td>-104.977905</td>\n",
       "      <td>Coffee Shop</td>\n",
       "      <td>0.000167</td>\n",
       "    </tr>\n",
       "  </tbody>\n",
       "</table>\n",
       "</div>"
      ],
      "text/plain": [
       "      Neighborhood  Neighborhood Latitude  Neighborhood Longitude  \\\n",
       "2023  Chaffee Park              39.787432             -105.015827   \n",
       "732   Civic Center              39.739440             -104.988890   \n",
       "1695   Five Points              39.754779             -104.978051   \n",
       "1448     Montclair              39.734914             -104.908769   \n",
       "1662   Five Points              39.754779             -104.978051   \n",
       "\n",
       "                     Venue  Venue Latitude  Venue Longitude Venue Category  \\\n",
       "2023  Little Caesars Pizza       39.787400      -105.015902    Pizza Place   \n",
       "732      Civic Center Park       39.739370      -104.988776           Park   \n",
       "1695           Five Points       39.754647      -104.978099   Neighborhood   \n",
       "1448        Montclair Park       39.734769      -104.908689           Park   \n",
       "1662   Coffee at The Point       39.754699      -104.977905    Coffee Shop   \n",
       "\n",
       "      Venue Distance  \n",
       "2023        0.000082  \n",
       "732         0.000134  \n",
       "1695        0.000141  \n",
       "1448        0.000165  \n",
       "1662        0.000167  "
      ]
     },
     "execution_count": 11,
     "metadata": {},
     "output_type": "execute_result"
    }
   ],
   "source": [
    "denver_venues['Venue Distance'] = np.sqrt((denver_venues['Neighborhood Latitude']-denver_venues['Venue Latitude'])**2+(denver_venues['Neighborhood Longitude']-denver_venues['Venue Longitude'])**2)\n",
    "\n",
    "denver_venues_reduced = denver_venues.sort_values('Venue Distance').drop_duplicates(['Venue','Venue Latitude','Venue Longitude'])\n",
    "print(\"Removed {} duplicate venues. {} remain.\".format(len(denver_venues)-len(denver_venues_reduced),len(denver_venues_reduced)))\n",
    "denver_venues_reduced.head()"
   ]
  },
  {
   "cell_type": "markdown",
   "metadata": {},
   "source": [
    "## Exploratory Analysis"
   ]
  },
  {
   "cell_type": "markdown",
   "metadata": {},
   "source": [
    "First we'll look at how the venues are distributed across the neighborhoods."
   ]
  },
  {
   "cell_type": "code",
   "execution_count": 12,
   "metadata": {
    "scrolled": false
   },
   "outputs": [
    {
     "data": {
      "text/html": [
       "<div>\n",
       "<style scoped>\n",
       "    .dataframe tbody tr th:only-of-type {\n",
       "        vertical-align: middle;\n",
       "    }\n",
       "\n",
       "    .dataframe tbody tr th {\n",
       "        vertical-align: top;\n",
       "    }\n",
       "\n",
       "    .dataframe thead th {\n",
       "        text-align: right;\n",
       "    }\n",
       "</style>\n",
       "<table border=\"1\" class=\"dataframe\">\n",
       "  <thead>\n",
       "    <tr style=\"text-align: right;\">\n",
       "      <th></th>\n",
       "      <th>Venue</th>\n",
       "    </tr>\n",
       "  </thead>\n",
       "  <tbody>\n",
       "    <tr>\n",
       "      <th>count</th>\n",
       "      <td>48.000000</td>\n",
       "    </tr>\n",
       "    <tr>\n",
       "      <th>mean</th>\n",
       "      <td>45.145833</td>\n",
       "    </tr>\n",
       "    <tr>\n",
       "      <th>std</th>\n",
       "      <td>24.412231</td>\n",
       "    </tr>\n",
       "    <tr>\n",
       "      <th>min</th>\n",
       "      <td>9.000000</td>\n",
       "    </tr>\n",
       "    <tr>\n",
       "      <th>25%</th>\n",
       "      <td>26.000000</td>\n",
       "    </tr>\n",
       "    <tr>\n",
       "      <th>50%</th>\n",
       "      <td>40.000000</td>\n",
       "    </tr>\n",
       "    <tr>\n",
       "      <th>75%</th>\n",
       "      <td>54.250000</td>\n",
       "    </tr>\n",
       "    <tr>\n",
       "      <th>max</th>\n",
       "      <td>94.000000</td>\n",
       "    </tr>\n",
       "  </tbody>\n",
       "</table>\n",
       "</div>"
      ],
      "text/plain": [
       "           Venue\n",
       "count  48.000000\n",
       "mean   45.145833\n",
       "std    24.412231\n",
       "min     9.000000\n",
       "25%    26.000000\n",
       "50%    40.000000\n",
       "75%    54.250000\n",
       "max    94.000000"
      ]
     },
     "execution_count": 12,
     "metadata": {},
     "output_type": "execute_result"
    },
    {
     "data": {
      "image/png": "[encoded data removed]",
      "text/plain": [
       "<Figure size 1440x720 with 1 Axes>"
      ]
     },
     "metadata": {},
     "output_type": "display_data"
    }
   ],
   "source": [
    "temp = denver_venues_reduced[['Neighborhood','Venue']].groupby(by='Neighborhood').count() \\\n",
    "                                                    .sort_values(by='Venue',ascending=False) \\\n",
    "\n",
    "ax = temp.plot.bar(figsize=(20,10))\n",
    "\n",
    "ax.get_legend().remove()\n",
    "ax.set_ylabel('Venue Count')\n",
    "\n",
    "temp.describe()"
   ]
  },
  {
   "cell_type": "markdown",
   "metadata": {},
   "source": [
    "There are a few neighborhoods with alarmingly low numbers of venues. Let's ignore these for now and deal with them if they cause issues during the clustering.\n",
    "\n",
    "Let's see how many of each venue category there are. To keep the number of distinct categories relatively low, we'll remove categories with less than a dozen instances."
   ]
  },
  {
   "cell_type": "code",
   "execution_count": 119,
   "metadata": {},
   "outputs": [
    {
     "data": {
      "text/html": [
       "<div>\n",
       "<style scoped>\n",
       "    .dataframe tbody tr th:only-of-type {\n",
       "        vertical-align: middle;\n",
       "    }\n",
       "\n",
       "    .dataframe tbody tr th {\n",
       "        vertical-align: top;\n",
       "    }\n",
       "\n",
       "    .dataframe thead th {\n",
       "        text-align: right;\n",
       "    }\n",
       "</style>\n",
       "<table border=\"1\" class=\"dataframe\">\n",
       "  <thead>\n",
       "    <tr style=\"text-align: right;\">\n",
       "      <th></th>\n",
       "      <th>Venue Category</th>\n",
       "    </tr>\n",
       "  </thead>\n",
       "  <tbody>\n",
       "    <tr>\n",
       "      <th>count</th>\n",
       "      <td>2167</td>\n",
       "    </tr>\n",
       "    <tr>\n",
       "      <th>unique</th>\n",
       "      <td>283</td>\n",
       "    </tr>\n",
       "    <tr>\n",
       "      <th>top</th>\n",
       "      <td>Coffee Shop</td>\n",
       "    </tr>\n",
       "    <tr>\n",
       "      <th>freq</th>\n",
       "      <td>99</td>\n",
       "    </tr>\n",
       "  </tbody>\n",
       "</table>\n",
       "</div>"
      ],
      "text/plain": [
       "       Venue Category\n",
       "count            2167\n",
       "unique            283\n",
       "top       Coffee Shop\n",
       "freq               99"
      ]
     },
     "execution_count": 119,
     "metadata": {},
     "output_type": "execute_result"
    }
   ],
   "source": [
    "venue_counts = pd.DataFrame(denver_venues_reduced['Venue Category'].value_counts())\n",
    "\n",
    "venue_counts.index = [row[0] if row[1]>11 else 'Other' for row \\\n",
    "                        in list(zip(venue_counts.index,venue_counts['Venue Category']))]\n",
    "\n",
    "venue_counts = venue_counts.groupby(venue_counts.index).sum() \\\n",
    "                .sort_values(by='Venue Category',ascending=False) \\\n",
    "                .drop('Other', axis=0)\n",
    "\n",
    "pd.DataFrame(denver_venues_reduced['Venue Category'].describe())"
   ]
  },
  {
   "cell_type": "code",
   "execution_count": 117,
   "metadata": {
    "scrolled": false
   },
   "outputs": [
    {
     "name": "stdout",
     "output_type": "stream",
     "text": [
      "51\n"
     ]
    },
    {
     "data": {
      "text/html": [
       "<div>\n",
       "<style scoped>\n",
       "    .dataframe tbody tr th:only-of-type {\n",
       "        vertical-align: middle;\n",
       "    }\n",
       "\n",
       "    .dataframe tbody tr th {\n",
       "        vertical-align: top;\n",
       "    }\n",
       "\n",
       "    .dataframe thead th {\n",
       "        text-align: right;\n",
       "    }\n",
       "</style>\n",
       "<table border=\"1\" class=\"dataframe\">\n",
       "  <thead>\n",
       "    <tr style=\"text-align: right;\">\n",
       "      <th></th>\n",
       "      <th>Venue Category</th>\n",
       "    </tr>\n",
       "  </thead>\n",
       "  <tbody>\n",
       "    <tr>\n",
       "      <th>count</th>\n",
       "      <td>51.000000</td>\n",
       "    </tr>\n",
       "    <tr>\n",
       "      <th>mean</th>\n",
       "      <td>27.666667</td>\n",
       "    </tr>\n",
       "    <tr>\n",
       "      <th>std</th>\n",
       "      <td>20.454502</td>\n",
       "    </tr>\n",
       "    <tr>\n",
       "      <th>min</th>\n",
       "      <td>12.000000</td>\n",
       "    </tr>\n",
       "    <tr>\n",
       "      <th>25%</th>\n",
       "      <td>13.500000</td>\n",
       "    </tr>\n",
       "    <tr>\n",
       "      <th>50%</th>\n",
       "      <td>19.000000</td>\n",
       "    </tr>\n",
       "    <tr>\n",
       "      <th>75%</th>\n",
       "      <td>35.000000</td>\n",
       "    </tr>\n",
       "    <tr>\n",
       "      <th>max</th>\n",
       "      <td>99.000000</td>\n",
       "    </tr>\n",
       "  </tbody>\n",
       "</table>\n",
       "</div>"
      ],
      "text/plain": [
       "       Venue Category\n",
       "count       51.000000\n",
       "mean        27.666667\n",
       "std         20.454502\n",
       "min         12.000000\n",
       "25%         13.500000\n",
       "50%         19.000000\n",
       "75%         35.000000\n",
       "max         99.000000"
      ]
     },
     "execution_count": 117,
     "metadata": {},
     "output_type": "execute_result"
    },
    {
     "data": {
      "image/png": "[encoded data removed]",
      "text/plain": [
       "<Figure size 1440x720 with 1 Axes>"
      ]
     },
     "metadata": {},
     "output_type": "display_data"
    }
   ],
   "source": [
    "%matplotlib inline\n",
    "c = ['b' if v=='Yoga Studio' else 'gray' for v in venue_counts.index]\n",
    "ax = venue_counts.plot.bar(y='Venue Category', figsize=(20,10),color=c)\n",
    "ax.get_legend().remove()\n",
    "ax.set_ylabel('Frequency')\n",
    "ax.annotate(str(venue_counts.loc['Yoga Studio'].values[0])+' Venues',xy=(27.5,19))\n",
    "\n",
    "venue_counts.describe()"
   ]
  },
  {
   "cell_type": "markdown",
   "metadata": {},
   "source": [
    "Now let's check for correlation between the number of yoga studios and the other venue categories. To do this, we'll use one-hot encoding to get a nice dataframe of the counts of the venues per neighborhood."
   ]
  },
  {
   "cell_type": "code",
   "execution_count": 120,
   "metadata": {
    "scrolled": true
   },
   "outputs": [],
   "source": [
    "# one hot encoding\n",
    "denver_onehot = pd.get_dummies(denver_venues_reduced[['Venue Category']], prefix=\"\", prefix_sep=\"\")\n",
    "\n",
    "# add neighborhood column back to dataframe\n",
    "denver_onehot['Neighborhood'] = denver_venues_reduced['Neighborhood'] \n",
    "\n",
    "# move neighborhood column to the first column\n",
    "fixed_columns = [denver_onehot.columns[-1]] + list(denver_onehot.columns[:-1])\n",
    "denver_onehot = denver_onehot[fixed_columns]\n",
    "\n",
    "venue_counts = denver_onehot.groupby('Neighborhood').sum().reset_index()\n",
    "\n",
    "venue_counts_temp = venue_counts"
   ]
  },
  {
   "cell_type": "code",
   "execution_count": 128,
   "metadata": {
    "scrolled": true
   },
   "outputs": [
    {
     "data": {
      "text/html": [
       "<div>\n",
       "<style scoped>\n",
       "    .dataframe tbody tr th:only-of-type {\n",
       "        vertical-align: middle;\n",
       "    }\n",
       "\n",
       "    .dataframe tbody tr th {\n",
       "        vertical-align: top;\n",
       "    }\n",
       "\n",
       "    .dataframe thead th {\n",
       "        text-align: right;\n",
       "    }\n",
       "</style>\n",
       "<table border=\"1\" class=\"dataframe\">\n",
       "  <thead>\n",
       "    <tr style=\"text-align: right;\">\n",
       "      <th></th>\n",
       "      <th>Correlation</th>\n",
       "    </tr>\n",
       "  </thead>\n",
       "  <tbody>\n",
       "    <tr>\n",
       "      <th>Italian Restaurant</th>\n",
       "      <td>0.529867</td>\n",
       "    </tr>\n",
       "    <tr>\n",
       "      <th>Frozen Yogurt Shop</th>\n",
       "      <td>0.493119</td>\n",
       "    </tr>\n",
       "    <tr>\n",
       "      <th>Taco Place</th>\n",
       "      <td>0.480119</td>\n",
       "    </tr>\n",
       "    <tr>\n",
       "      <th>Jewelry Store</th>\n",
       "      <td>0.431866</td>\n",
       "    </tr>\n",
       "    <tr>\n",
       "      <th>Asian Restaurant</th>\n",
       "      <td>0.405620</td>\n",
       "    </tr>\n",
       "  </tbody>\n",
       "</table>\n",
       "</div>"
      ],
      "text/plain": [
       "                    Correlation\n",
       "Italian Restaurant     0.529867\n",
       "Frozen Yogurt Shop     0.493119\n",
       "Taco Place             0.480119\n",
       "Jewelry Store          0.431866\n",
       "Asian Restaurant       0.405620"
      ]
     },
     "execution_count": 128,
     "metadata": {},
     "output_type": "execute_result"
    }
   ],
   "source": [
    "yoga_corr = pd.DataFrame(venue_counts.corr(method='spearman')['Yoga Studio'] \\\n",
    "                         .sort_values(ascending=False))\n",
    "\n",
    "temp = yoga_corr[1:].head()\n",
    "temp.rename({'Yoga Studio':'Correlation'},axis=1)"
   ]
  },
  {
   "cell_type": "code",
   "execution_count": 129,
   "metadata": {},
   "outputs": [
    {
     "data": {
      "text/html": [
       "<div>\n",
       "<style scoped>\n",
       "    .dataframe tbody tr th:only-of-type {\n",
       "        vertical-align: middle;\n",
       "    }\n",
       "\n",
       "    .dataframe tbody tr th {\n",
       "        vertical-align: top;\n",
       "    }\n",
       "\n",
       "    .dataframe thead th {\n",
       "        text-align: right;\n",
       "    }\n",
       "</style>\n",
       "<table border=\"1\" class=\"dataframe\">\n",
       "  <thead>\n",
       "    <tr style=\"text-align: right;\">\n",
       "      <th></th>\n",
       "      <th>Correlation</th>\n",
       "    </tr>\n",
       "  </thead>\n",
       "  <tbody>\n",
       "    <tr>\n",
       "      <th>Vietnamese Restaurant</th>\n",
       "      <td>-0.228007</td>\n",
       "    </tr>\n",
       "    <tr>\n",
       "      <th>Convenience Store</th>\n",
       "      <td>-0.258593</td>\n",
       "    </tr>\n",
       "    <tr>\n",
       "      <th>Video Store</th>\n",
       "      <td>-0.270116</td>\n",
       "    </tr>\n",
       "    <tr>\n",
       "      <th>Food</th>\n",
       "      <td>-0.308076</td>\n",
       "    </tr>\n",
       "    <tr>\n",
       "      <th>Liquor Store</th>\n",
       "      <td>-0.404430</td>\n",
       "    </tr>\n",
       "  </tbody>\n",
       "</table>\n",
       "</div>"
      ],
      "text/plain": [
       "                       Correlation\n",
       "Vietnamese Restaurant    -0.228007\n",
       "Convenience Store        -0.258593\n",
       "Video Store              -0.270116\n",
       "Food                     -0.308076\n",
       "Liquor Store             -0.404430"
      ]
     },
     "execution_count": 129,
     "metadata": {},
     "output_type": "execute_result"
    }
   ],
   "source": [
    "temp = yoga_corr.tail()\n",
    "temp.rename({'Yoga Studio':'Correlation'},axis=1)"
   ]
  },
  {
   "cell_type": "code",
   "execution_count": 123,
   "metadata": {
    "scrolled": false
   },
   "outputs": [
    {
     "data": {
      "text/plain": [
       "<matplotlib.axes._subplots.AxesSubplot at 0x285e3100588>"
      ]
     },
     "execution_count": 123,
     "metadata": {},
     "output_type": "execute_result"
    },
    {
     "data": {
      "image/png": "[encoded data removed]",
      "text/plain": [
       "<Figure size 432x288 with 1 Axes>"
      ]
     },
     "metadata": {},
     "output_type": "display_data"
    }
   ],
   "source": [
    "venue_counts.plot.scatter(x='Yoga Studio',y='Italian Restaurant',\n",
    "                         title='Italian Restaurant')"
   ]
  },
  {
   "cell_type": "markdown",
   "metadata": {},
   "source": [
    "We see from the venue counts that there are only a few yoga studios. This likely means that these correlations are a result of the size of the neighborhoods."
   ]
  },
  {
   "cell_type": "markdown",
   "metadata": {},
   "source": [
    "## K-Means Clustering"
   ]
  },
  {
   "cell_type": "markdown",
   "metadata": {},
   "source": [
    "Let's standardize the data by turning venue type count into percent of total venues in the neighborhood."
   ]
  },
  {
   "cell_type": "code",
   "execution_count": 137,
   "metadata": {},
   "outputs": [],
   "source": [
    "venue_counts = venue_counts_temp\n",
    "denver_grouped_portioned = denver_onehot.groupby('Neighborhood').mean().reset_index()\n",
    "denver_grouped_clustering = denver_grouped_portioned.drop('Neighborhood', 1)\n",
    "denver_grouped_clustering['Yoga Studio'] = denver_grouped_clustering['Yoga Studio']*3"
   ]
  },
  {
   "cell_type": "markdown",
   "metadata": {},
   "source": [
    "Now we can determine k using elbow method."
   ]
  },
  {
   "cell_type": "code",
   "execution_count": 138,
   "metadata": {},
   "outputs": [
    {
     "data": {
      "image/png": "[encoded data removed]",
      "text/plain": [
       "<Figure size 432x288 with 1 Axes>"
      ]
     },
     "metadata": {},
     "output_type": "display_data"
    }
   ],
   "source": [
    "distortions = []\n",
    "rand = 42\n",
    "K = range(2,10)\n",
    "for k in K:\n",
    "    kmeanModel = KMeans(n_clusters=k, random_state=rand).fit(denver_grouped_clustering)\n",
    "    kmeanModel.fit(denver_grouped_clustering)\n",
    "    distortions.append(sum(np.min(cdist(denver_grouped_clustering, kmeanModel.cluster_centers_, 'euclidean'), axis=1)) / denver_grouped_clustering.shape[0])\n",
    "\n",
    "# Plot the elbow\n",
    "plt.plot(K, distortions, 'bx-')\n",
    "plt.xlabel('k')\n",
    "plt.ylabel('Distortion')\n",
    "plt.title('The Elbow Method showing the optimal k')\n",
    "plt.show()\n"
   ]
  },
  {
   "cell_type": "markdown",
   "metadata": {},
   "source": [
    "Let's see if we can get anything out of this initial clustering."
   ]
  },
  {
   "cell_type": "code",
   "execution_count": 139,
   "metadata": {},
   "outputs": [],
   "source": [
    "# set number of clusters\n",
    "kclusters = 6\n",
    "\n",
    "# run k-means clustering\n",
    "kmeans = KMeans(n_clusters=kclusters, random_state=1).fit(denver_grouped_clustering)"
   ]
  },
  {
   "cell_type": "markdown",
   "metadata": {},
   "source": [
    "Let's check how many neighborhoods are in each cluster and the number of yoga studios in each to be sure that they are account for."
   ]
  },
  {
   "cell_type": "code",
   "execution_count": 140,
   "metadata": {
    "scrolled": false
   },
   "outputs": [
    {
     "data": {
      "text/html": [
       "<div>\n",
       "<style scoped>\n",
       "    .dataframe tbody tr th:only-of-type {\n",
       "        vertical-align: middle;\n",
       "    }\n",
       "\n",
       "    .dataframe tbody tr th {\n",
       "        vertical-align: top;\n",
       "    }\n",
       "\n",
       "    .dataframe thead th {\n",
       "        text-align: right;\n",
       "    }\n",
       "</style>\n",
       "<table border=\"1\" class=\"dataframe\">\n",
       "  <thead>\n",
       "    <tr style=\"text-align: right;\">\n",
       "      <th></th>\n",
       "      <th>Yoga Studio</th>\n",
       "      <th>Neighborhoods</th>\n",
       "      <th>Average per Neighborhood</th>\n",
       "    </tr>\n",
       "    <tr>\n",
       "      <th>Cluster</th>\n",
       "      <th></th>\n",
       "      <th></th>\n",
       "      <th></th>\n",
       "    </tr>\n",
       "  </thead>\n",
       "  <tbody>\n",
       "    <tr>\n",
       "      <th>0</th>\n",
       "      <td>2</td>\n",
       "      <td>1</td>\n",
       "      <td>2.00</td>\n",
       "    </tr>\n",
       "    <tr>\n",
       "      <th>1</th>\n",
       "      <td>15</td>\n",
       "      <td>20</td>\n",
       "      <td>0.75</td>\n",
       "    </tr>\n",
       "    <tr>\n",
       "      <th>2</th>\n",
       "      <td>0</td>\n",
       "      <td>17</td>\n",
       "      <td>0.00</td>\n",
       "    </tr>\n",
       "    <tr>\n",
       "      <th>3</th>\n",
       "      <td>0</td>\n",
       "      <td>1</td>\n",
       "      <td>0.00</td>\n",
       "    </tr>\n",
       "    <tr>\n",
       "      <th>4</th>\n",
       "      <td>0</td>\n",
       "      <td>5</td>\n",
       "      <td>0.00</td>\n",
       "    </tr>\n",
       "    <tr>\n",
       "      <th>5</th>\n",
       "      <td>0</td>\n",
       "      <td>4</td>\n",
       "      <td>0.00</td>\n",
       "    </tr>\n",
       "  </tbody>\n",
       "</table>\n",
       "</div>"
      ],
      "text/plain": [
       "         Yoga Studio  Neighborhoods  Average per Neighborhood\n",
       "Cluster                                                      \n",
       "0                  2              1                      2.00\n",
       "1                 15             20                      0.75\n",
       "2                  0             17                      0.00\n",
       "3                  0              1                      0.00\n",
       "4                  0              5                      0.00\n",
       "5                  0              4                      0.00"
      ]
     },
     "execution_count": 140,
     "metadata": {},
     "output_type": "execute_result"
    }
   ],
   "source": [
    "venue_counts['Cluster'] = kmeans.labels_\n",
    "yoga_df = venue_counts[['Cluster','Yoga Studio']].groupby('Cluster').sum()\n",
    "yoga_df['Neighborhoods'] = venue_counts['Cluster'].value_counts().sort_index()\n",
    "yoga_df['Average per Neighborhood'] = yoga_df['Yoga Studio']/yoga_df['Neighborhoods']\n",
    "yoga_df"
   ]
  },
  {
   "cell_type": "markdown",
   "metadata": {},
   "source": [
    "Some of the neighborhoods are drastically different from the rest. Let's find out what they are."
   ]
  },
  {
   "cell_type": "code",
   "execution_count": 141,
   "metadata": {},
   "outputs": [
    {
     "name": "stdout",
     "output_type": "stream",
     "text": [
      "Outlying neighborhoods include Country Club, Villa Park\n"
     ]
    }
   ],
   "source": [
    "# get the count of each venue category instance by neighborhood\n",
    "denver_grouped_portioned['Cluster'] = kmeans.labels_\n",
    "\n",
    "bad_clusters = list(yoga_df[(yoga_df['Neighborhoods']==1) | (yoga_df['Neighborhoods']==2)].index)\n",
    "bad_neighborhoods = list(denver_grouped_portioned[[(x in bad_clusters) for x in denver_grouped_portioned['Cluster']]]['Neighborhood'])\n",
    "\n",
    "print(\"Outlying neighborhoods include {}\".format(\", \".join(bad_neighborhoods)))"
   ]
  },
  {
   "cell_type": "markdown",
   "metadata": {},
   "source": [
    "We saw earlier that these had very low venue counts, so it's logical that they are outliers.\n",
    "Let's get rid of them and recluster."
   ]
  },
  {
   "cell_type": "code",
   "execution_count": 142,
   "metadata": {},
   "outputs": [
    {
     "data": {
      "image/png": "[encoded data removed]",
      "text/plain": [
       "<Figure size 432x288 with 1 Axes>"
      ]
     },
     "metadata": {},
     "output_type": "display_data"
    }
   ],
   "source": [
    "denver_grouped_portioned = denver_grouped_portioned[[x not in bad_neighborhoods for x in denver_grouped_portioned['Neighborhood']]]\n",
    "denver_grouped_clustering = denver_grouped_portioned.drop('Neighborhood', 1)\n",
    "\n",
    "venue_counts = venue_counts[[x not in bad_neighborhoods for x in venue_counts['Neighborhood']]]\n",
    "\n",
    "# determine k using elbow method\n",
    "distortions = []\n",
    "K = range(2,11)\n",
    "for k in K:\n",
    "    kmeanModel = KMeans(n_clusters=k, random_state=rand).fit(denver_grouped_clustering)\n",
    "    kmeanModel.fit(denver_grouped_clustering)\n",
    "    distortions.append(sum(np.min(cdist(denver_grouped_clustering, kmeanModel.cluster_centers_, 'euclidean'), axis=1)) / denver_grouped_clustering.shape[0])\n",
    "\n",
    "# Plot the elbow\n",
    "plt.plot(K, distortions, 'bx-')\n",
    "plt.xlabel('k')\n",
    "plt.ylabel('Distortion')\n",
    "plt.title('The Elbow Method showing the optimal k')\n",
    "plt.show()"
   ]
  },
  {
   "cell_type": "code",
   "execution_count": 143,
   "metadata": {},
   "outputs": [
    {
     "name": "stderr",
     "output_type": "stream",
     "text": [
      "C:\\Users\\pservello\\AppData\\Local\\Continuum\\anaconda3\\lib\\site-packages\\ipykernel_launcher.py:8: SettingWithCopyWarning: \n",
      "A value is trying to be set on a copy of a slice from a DataFrame.\n",
      "Try using .loc[row_indexer,col_indexer] = value instead\n",
      "\n",
      "See the caveats in the documentation: http://pandas.pydata.org/pandas-docs/stable/indexing.html#indexing-view-versus-copy\n",
      "  \n"
     ]
    },
    {
     "data": {
      "text/html": [
       "<div>\n",
       "<style scoped>\n",
       "    .dataframe tbody tr th:only-of-type {\n",
       "        vertical-align: middle;\n",
       "    }\n",
       "\n",
       "    .dataframe tbody tr th {\n",
       "        vertical-align: top;\n",
       "    }\n",
       "\n",
       "    .dataframe thead th {\n",
       "        text-align: right;\n",
       "    }\n",
       "</style>\n",
       "<table border=\"1\" class=\"dataframe\">\n",
       "  <thead>\n",
       "    <tr style=\"text-align: right;\">\n",
       "      <th></th>\n",
       "      <th>Yoga Studio</th>\n",
       "      <th>Neighborhoods</th>\n",
       "      <th>Average per Neighborhood</th>\n",
       "    </tr>\n",
       "    <tr>\n",
       "      <th>Cluster</th>\n",
       "      <th></th>\n",
       "      <th></th>\n",
       "      <th></th>\n",
       "    </tr>\n",
       "  </thead>\n",
       "  <tbody>\n",
       "    <tr>\n",
       "      <th>0</th>\n",
       "      <td>15</td>\n",
       "      <td>20</td>\n",
       "      <td>0.75</td>\n",
       "    </tr>\n",
       "    <tr>\n",
       "      <th>1</th>\n",
       "      <td>0</td>\n",
       "      <td>5</td>\n",
       "      <td>0.00</td>\n",
       "    </tr>\n",
       "    <tr>\n",
       "      <th>2</th>\n",
       "      <td>0</td>\n",
       "      <td>17</td>\n",
       "      <td>0.00</td>\n",
       "    </tr>\n",
       "    <tr>\n",
       "      <th>3</th>\n",
       "      <td>0</td>\n",
       "      <td>4</td>\n",
       "      <td>0.00</td>\n",
       "    </tr>\n",
       "  </tbody>\n",
       "</table>\n",
       "</div>"
      ],
      "text/plain": [
       "         Yoga Studio  Neighborhoods  Average per Neighborhood\n",
       "Cluster                                                      \n",
       "0                 15             20                      0.75\n",
       "1                  0              5                      0.00\n",
       "2                  0             17                      0.00\n",
       "3                  0              4                      0.00"
      ]
     },
     "execution_count": 143,
     "metadata": {},
     "output_type": "execute_result"
    }
   ],
   "source": [
    "# set number of clusters\n",
    "kclusters = 4\n",
    "\n",
    "# run k-means clustering\n",
    "kmeans = KMeans(n_clusters=kclusters, random_state=42).fit(denver_grouped_clustering)\n",
    "\n",
    "# get the count of each venue category instance by neighborhood\n",
    "venue_counts['Cluster'] = kmeans.labels_\n",
    "venue_counts.head()\n",
    "\n",
    "yoga_df = venue_counts[['Cluster','Yoga Studio']].groupby('Cluster').sum()\n",
    "yoga_df['Neighborhoods'] = venue_counts['Cluster'].value_counts().sort_index()\n",
    "yoga_df['Average per Neighborhood'] = yoga_df['Yoga Studio']/yoga_df['Neighborhoods']\n",
    "yoga_df"
   ]
  },
  {
   "cell_type": "markdown",
   "metadata": {},
   "source": [
    "These are decent results! We were hoping to see that the yoga studios were designated to the same cluster."
   ]
  },
  {
   "cell_type": "code",
   "execution_count": 144,
   "metadata": {},
   "outputs": [
    {
     "data": {
      "text/html": [
       "<div style=\"width:100%;\"><div style=\"position:relative;width:100%;height:0;padding-bottom:60%;\"><iframe src=\"data:text/html;charset=utf-8;base64,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\" style=\"position:absolute;width:100%;height:100%;left:0;top:0;border:none !important;\" allowfullscreen webkitallowfullscreen mozallowfullscreen></iframe></div></div>"
      ],
      "text/plain": [
       "<folium.folium.Map at 0x285df1280b8>"
      ]
     },
     "execution_count": 144,
     "metadata": {},
     "output_type": "execute_result"
    }
   ],
   "source": [
    "# create dataframe of neighborhood coordinates and clusters\n",
    "denver_merged = df[[nbhd in set(denver_venues_reduced['Neighborhood']) for nbhd in df['Neighborhood']]]\n",
    "denver_merged = denver_merged.merge(venue_counts[['Neighborhood','Cluster']])\n",
    "denver_merged.head()\n",
    "\n",
    "# create map\n",
    "map_clusters = folium.Map(location=[39.719, -104.95], zoom_start=12)\n",
    "\n",
    "# set color scheme for the clusters\n",
    "x = np.arange(kclusters)\n",
    "ys = [i + x + (i*x)**2 for i in range(kclusters)]\n",
    "colors_array = cm.brg(np.linspace(0, 1, len(ys)))\n",
    "rainbow = [colors.rgb2hex(i) for i in colors_array]\n",
    "\n",
    "# add markers to the map\n",
    "markers_colors = []\n",
    "for lat, lon, poi, cluster in zip(denver_merged['Latitude'], denver_merged['Longitude'], denver_merged['Neighborhood'], denver_merged['Cluster']):\n",
    "    label = folium.Popup(str(poi) + ' Cluster ' + str(cluster), parse_html=True)\n",
    "    folium.CircleMarker(\n",
    "        [lat, lon],\n",
    "        radius=5,\n",
    "        popup=label,\n",
    "        color=rainbow[cluster-1],\n",
    "        fill=True,\n",
    "        fill_color=rainbow[cluster-1],\n",
    "        fill_opacity=0.7).add_to(map_clusters)\n",
    "       \n",
    "map_clusters"
   ]
  },
  {
   "cell_type": "code",
   "execution_count": 162,
   "metadata": {
    "scrolled": true
   },
   "outputs": [
    {
     "name": "stdout",
     "output_type": "stream",
     "text": [
      "Cluster 0 has the highest average number of yoga studios per neighborhood.\n"
     ]
    }
   ],
   "source": [
    "# find the average number of each venue category per cluster\n",
    "venue_clusters = venue_counts.groupby('Cluster').mean()\n",
    "venue_clusters = venue_clusters\n",
    "\n",
    "# store the yoga cluster\n",
    "avg_yoga_per_neighborhood = venue_clusters['Yoga Studio']\n",
    "yoga_cluster = avg_yoga_per_neighborhood.idxmax()\n",
    "print(\"Cluster {} has the highest average number of yoga studios per neighborhood.\".format(yoga_cluster))"
   ]
  },
  {
   "cell_type": "markdown",
   "metadata": {},
   "source": [
    "What's different about this cluster? Are there more of a particular venue type than there are in other clusters?"
   ]
  },
  {
   "cell_type": "code",
   "execution_count": 163,
   "metadata": {},
   "outputs": [],
   "source": [
    "venue_clusters.div(venue_clusters.sum(1),axis=0)\n",
    "venue_clusters = venue_clusters.div(venue_clusters.sum(1),axis=0)"
   ]
  },
  {
   "cell_type": "code",
   "execution_count": 164,
   "metadata": {
    "scrolled": true
   },
   "outputs": [
    {
     "data": {
      "text/html": [
       "<div>\n",
       "<style scoped>\n",
       "    .dataframe tbody tr th:only-of-type {\n",
       "        vertical-align: middle;\n",
       "    }\n",
       "\n",
       "    .dataframe tbody tr th {\n",
       "        vertical-align: top;\n",
       "    }\n",
       "\n",
       "    .dataframe thead th {\n",
       "        text-align: right;\n",
       "    }\n",
       "</style>\n",
       "<table border=\"1\" class=\"dataframe\">\n",
       "  <thead>\n",
       "    <tr style=\"text-align: right;\">\n",
       "      <th>Cluster</th>\n",
       "      <th>0</th>\n",
       "      <th>1</th>\n",
       "      <th>2</th>\n",
       "      <th>3</th>\n",
       "    </tr>\n",
       "  </thead>\n",
       "  <tbody>\n",
       "    <tr>\n",
       "      <th>American Restaurant</th>\n",
       "      <td>0.036855</td>\n",
       "      <td>0.013889</td>\n",
       "      <td>0.018598</td>\n",
       "      <td>0.000000</td>\n",
       "    </tr>\n",
       "    <tr>\n",
       "      <th>Italian Restaurant</th>\n",
       "      <td>0.027846</td>\n",
       "      <td>0.000000</td>\n",
       "      <td>0.005722</td>\n",
       "      <td>0.000000</td>\n",
       "    </tr>\n",
       "    <tr>\n",
       "      <th>Hotel</th>\n",
       "      <td>0.027027</td>\n",
       "      <td>0.020833</td>\n",
       "      <td>0.001431</td>\n",
       "      <td>0.000000</td>\n",
       "    </tr>\n",
       "    <tr>\n",
       "      <th>Restaurant</th>\n",
       "      <td>0.017199</td>\n",
       "      <td>0.013889</td>\n",
       "      <td>0.002861</td>\n",
       "      <td>0.013333</td>\n",
       "    </tr>\n",
       "    <tr>\n",
       "      <th>Zoo Exhibit</th>\n",
       "      <td>0.015561</td>\n",
       "      <td>0.000000</td>\n",
       "      <td>0.000000</td>\n",
       "      <td>0.000000</td>\n",
       "    </tr>\n",
       "    <tr>\n",
       "      <th>Cocktail Bar</th>\n",
       "      <td>0.015561</td>\n",
       "      <td>0.000000</td>\n",
       "      <td>0.001431</td>\n",
       "      <td>0.000000</td>\n",
       "    </tr>\n",
       "    <tr>\n",
       "      <th>Burger Joint</th>\n",
       "      <td>0.013923</td>\n",
       "      <td>0.006944</td>\n",
       "      <td>0.001431</td>\n",
       "      <td>0.000000</td>\n",
       "    </tr>\n",
       "    <tr>\n",
       "      <th>Asian Restaurant</th>\n",
       "      <td>0.013104</td>\n",
       "      <td>0.006944</td>\n",
       "      <td>0.008584</td>\n",
       "      <td>0.000000</td>\n",
       "    </tr>\n",
       "    <tr>\n",
       "      <th>Yoga Studio</th>\n",
       "      <td>0.012285</td>\n",
       "      <td>0.000000</td>\n",
       "      <td>0.000000</td>\n",
       "      <td>0.000000</td>\n",
       "    </tr>\n",
       "    <tr>\n",
       "      <th>Sushi Restaurant</th>\n",
       "      <td>0.012285</td>\n",
       "      <td>0.006944</td>\n",
       "      <td>0.008584</td>\n",
       "      <td>0.000000</td>\n",
       "    </tr>\n",
       "  </tbody>\n",
       "</table>\n",
       "</div>"
      ],
      "text/plain": [
       "Cluster                     0         1         2         3\n",
       "American Restaurant  0.036855  0.013889  0.018598  0.000000\n",
       "Italian Restaurant   0.027846  0.000000  0.005722  0.000000\n",
       "Hotel                0.027027  0.020833  0.001431  0.000000\n",
       "Restaurant           0.017199  0.013889  0.002861  0.013333\n",
       "Zoo Exhibit          0.015561  0.000000  0.000000  0.000000\n",
       "Cocktail Bar         0.015561  0.000000  0.001431  0.000000\n",
       "Burger Joint         0.013923  0.006944  0.001431  0.000000\n",
       "Asian Restaurant     0.013104  0.006944  0.008584  0.000000\n",
       "Yoga Studio          0.012285  0.000000  0.000000  0.000000\n",
       "Sushi Restaurant     0.012285  0.006944  0.008584  0.000000"
      ]
     },
     "execution_count": 164,
     "metadata": {},
     "output_type": "execute_result"
    }
   ],
   "source": [
    "venue_clusters = venue_clusters.T\n",
    "venue_clusters[venue_clusters.max(axis=1)==venue_clusters[yoga_cluster]].sort_values(by=yoga_cluster,ascending=False).head(10)"
   ]
  },
  {
   "cell_type": "markdown",
   "metadata": {},
   "source": [
    "There are more american and italian restaurants than there are in other neighborhoods (not just beer, coffee too!). Also, italian restaurants had the highest correlation to yoga studios, so it's good to see that it's up here.\n",
    "\n",
    "Now, are there any neighborhoods in this cluster that do not have a yoga studio in them? If so, we should open one there!"
   ]
  },
  {
   "cell_type": "code",
   "execution_count": 165,
   "metadata": {},
   "outputs": [
    {
     "name": "stdout",
     "output_type": "stream",
     "text": [
      "Auraria, Belcaro, Central Business District, Civic Center, Cole, LoDo, Lowry, Union Station\n"
     ]
    }
   ],
   "source": [
    "solution = list(venue_counts[(venue_counts['Yoga Studio']==0) & (venue_counts['Cluster']==yoga_cluster)]['Neighborhood'])\n",
    "print(', '.join(solution))"
   ]
  },
  {
   "cell_type": "markdown",
   "metadata": {},
   "source": [
    "Let's see the the area where we are going to set up the new yoga studio."
   ]
  },
  {
   "cell_type": "code",
   "execution_count": 170,
   "metadata": {},
   "outputs": [
    {
     "data": {
      "text/html": [
       "<div style=\"width:100%;\"><div style=\"position:relative;width:100%;height:0;padding-bottom:60%;\"><iframe src=\"data:text/html;charset=utf-8;base64,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\" style=\"position:absolute;width:100%;height:100%;left:0;top:0;border:none !important;\" allowfullscreen webkitallowfullscreen mozallowfullscreen></iframe></div></div>"
      ],
      "text/plain": [
       "<folium.folium.Map at 0x285e32691d0>"
      ]
     },
     "execution_count": 170,
     "metadata": {},
     "output_type": "execute_result"
    }
   ],
   "source": [
    "# create map of Denver using latitude and longitude values\n",
    "map_denver = folium.Map(location=[39.735, -104.96], zoom_start=13)\n",
    "\n",
    "df_solution = df[[nbhd in solution for nbhd in df['Neighborhood']]]\n",
    "\n",
    "# add markers to map\n",
    "for lat, lng, borough, neighborhood in zip(df_solution['Latitude'], df_solution['Longitude'], df_solution['Area'], df_solution['Neighborhood']):\n",
    "    label = '{}, {}'.format(neighborhood, borough)\n",
    "    label = folium.Popup(label, parse_html=True)\n",
    "    folium.CircleMarker(\n",
    "        [lat, lng],\n",
    "        radius=5,\n",
    "        popup=label,\n",
    "        color='blue',\n",
    "        fill=True,\n",
    "        fill_color='#3186cc',\n",
    "        fill_opacity=0.7,\n",
    "        parse_html=False).add_to(map_denver)  \n",
    "    \n",
    "map_denver"
   ]
  },
  {
   "cell_type": "markdown",
   "metadata": {},
   "source": [
    "Most of the prospective neighborhoods are at the heart of Denver. It is likely that there are no yoga studios in these parts because the typical revenue of a yoga studio is not sufficient to pay for rent downtown.\n",
    "\n",
    "However, we could opt for a location next to the University of Denver or Lowry. My friend also wants to be a professor. Maybe he could teach at the university while he runs his yoga studio."
   ]
  },
  {
   "cell_type": "code",
   "execution_count": null,
   "metadata": {},
   "outputs": [],
   "source": []
  }
 ],
 "metadata": {
  "kernelspec": {
   "display_name": "Python 3",
   "language": "python",
   "name": "python3"
  },
  "language_info": {
   "codemirror_mode": {
    "name": "ipython",
    "version": 3
   },
   "file_extension": ".py",
   "mimetype": "text/x-python",
   "name": "python",
   "nbconvert_exporter": "python",
   "pygments_lexer": "ipython3",
   "version": "3.6.5"
  }
 },
 "nbformat": 4,
 "nbformat_minor": 2
}
